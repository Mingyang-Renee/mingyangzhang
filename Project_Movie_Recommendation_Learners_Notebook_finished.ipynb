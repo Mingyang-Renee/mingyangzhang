{
  "cells": [
    {
      "cell_type": "markdown",
      "metadata": {
        "id": "Cf3GloRNvOOG"
      },
      "source": [
        "# **Project - Recommendation Systems: Movie Recommendation System**\n",
        "\n",
        "## **Marks: 40**\n",
        "---------------\n",
        "## **Context**\n",
        "---------------\n",
        "\n",
        "Online streaming platforms like **Netflix** have plenty of movies in their repository and if we can build a **Recommendation System** to recommend **relevant movies** to users, based on their **historical interactions**, this would **improve customer satisfaction** and hence, it will also improve the revenue of the platform. The techniques that we will learn here will not only be limited to movies, it can be any item for which you want to build a recommendation system.\n",
        "\n",
        "-----------------\n",
        "## **Objective**\n",
        "-----------------\n",
        "\n",
        "In this project we will be building various recommendation systems: \n",
        "- Knowledge/Rank based recommendation system\n",
        "- Similarity-Based Collaborative filtering\n",
        "- Matrix Factorization Based Collaborative Filtering\n",
        "\n",
        "we are going to use the **ratings** dataset. \n",
        "\n",
        "-----------------\n",
        "## **Dataset**\n",
        "-----------------\n",
        "\n",
        "The **ratings** dataset contains the following attributes: \n",
        "- userId\n",
        "- movieId\n",
        "- rating\n",
        "- timestamp"
      ]
    },
    {
      "cell_type": "markdown",
      "source": [
        "Sometimes, the installation of the surprise library, which is used to build recommendation systems, faces issues in Jupyter. To avoid any issues, it is advised to use **Google Colab** for this case study.\n",
        "\n",
        "Let's start by mounting the Google drive on Colab."
      ],
      "metadata": {
        "id": "VcUTqJ5pwmuY"
      }
    },
    {
      "cell_type": "code",
      "execution_count": null,
      "metadata": {
        "id": "FYrMMOH6sm8f",
        "colab": {
          "base_uri": "https://localhost:8080/"
        },
        "outputId": "424d5ee6-5fc0-4473-fb03-36372bf6a970"
      },
      "outputs": [
        {
          "output_type": "stream",
          "name": "stdout",
          "text": [
            "Mounted at /content/drive\n"
          ]
        }
      ],
      "source": [
        "# uncomment if you are using google colab\n",
        "\n",
        "from google.colab import drive\n",
        "drive.mount('/content/drive')"
      ]
    },
    {
      "cell_type": "markdown",
      "source": [
        "**Installing surprise library**"
      ],
      "metadata": {
        "id": "jRmwxTz1xKew"
      }
    },
    {
      "cell_type": "code",
      "execution_count": null,
      "metadata": {
        "id": "J1TItcxtwIAZ",
        "colab": {
          "base_uri": "https://localhost:8080/"
        },
        "outputId": "fe9f63bb-7c45-40cf-8ae9-c051fba9e395"
      },
      "outputs": [
        {
          "output_type": "stream",
          "name": "stdout",
          "text": [
            "Looking in indexes: https://pypi.org/simple, https://us-python.pkg.dev/colab-wheels/public/simple/\n",
            "Collecting surprise\n",
            "  Downloading surprise-0.1-py2.py3-none-any.whl (1.8 kB)\n",
            "Collecting scikit-surprise\n",
            "  Downloading scikit-surprise-1.1.1.tar.gz (11.8 MB)\n",
            "\u001b[K     |████████████████████████████████| 11.8 MB 15.6 MB/s \n",
            "\u001b[?25hRequirement already satisfied: joblib>=0.11 in /usr/local/lib/python3.7/dist-packages (from scikit-surprise->surprise) (1.1.0)\n",
            "Requirement already satisfied: numpy>=1.11.2 in /usr/local/lib/python3.7/dist-packages (from scikit-surprise->surprise) (1.21.6)\n",
            "Requirement already satisfied: scipy>=1.0.0 in /usr/local/lib/python3.7/dist-packages (from scikit-surprise->surprise) (1.4.1)\n",
            "Requirement already satisfied: six>=1.10.0 in /usr/local/lib/python3.7/dist-packages (from scikit-surprise->surprise) (1.15.0)\n",
            "Building wheels for collected packages: scikit-surprise\n",
            "  Building wheel for scikit-surprise (setup.py) ... \u001b[?25l\u001b[?25hdone\n",
            "  Created wheel for scikit-surprise: filename=scikit_surprise-1.1.1-cp37-cp37m-linux_x86_64.whl size=1633707 sha256=be48960e573b07074abff4aa0ce568d16ccdc72ba1f04f189a15bee4b5bca137\n",
            "  Stored in directory: /root/.cache/pip/wheels/76/44/74/b498c42be47b2406bd27994e16c5188e337c657025ab400c1c\n",
            "Successfully built scikit-surprise\n",
            "Installing collected packages: scikit-surprise, surprise\n",
            "Successfully installed scikit-surprise-1.1.1 surprise-0.1\n"
          ]
        }
      ],
      "source": [
        "# Installing surprise library, only do it for first time\n",
        "!pip install surprise"
      ]
    },
    {
      "cell_type": "markdown",
      "metadata": {
        "id": "9hczXgBkvOOG"
      },
      "source": [
        "## **Importing the necessary libraries and overview of the dataset**"
      ]
    },
    {
      "cell_type": "code",
      "execution_count": null,
      "metadata": {
        "id": "Gem2ozi_vOOG"
      },
      "outputs": [],
      "source": [
        "# Used to ignore the warning given as output of the code\n",
        "import warnings                                 \n",
        "warnings.filterwarnings('ignore')\n",
        "\n",
        "# Basic libraries of python for numeric and dataframe computations\n",
        "import numpy as np                              \n",
        "import pandas as pd\n",
        "\n",
        "# Basic library for data visualization\n",
        "import matplotlib.pyplot as plt     \n",
        "\n",
        "# Slightly advanced library for data visualization            \n",
        "import seaborn as sns                           \n",
        "\n",
        "# A dictionary output that does not raise a key error\n",
        "from collections import defaultdict             \n",
        "\n",
        "# A performance metrics in surprise\n",
        "from surprise import accuracy\n",
        "\n",
        "# Class is used to parse a file containing ratings, data should be in structure - user ; item ; rating\n",
        "from surprise.reader import Reader\n",
        "\n",
        "# Class for loading datasets\n",
        "from surprise.dataset import Dataset\n",
        "\n",
        "# for model tuning model hyper-parameters\n",
        "from surprise.model_selection import GridSearchCV\n",
        "\n",
        "# for splitting the rating data in train and test dataset\n",
        "from surprise.model_selection import train_test_split\n",
        "\n",
        "# for implementing similarity based recommendation system\n",
        "from surprise.prediction_algorithms.knns import KNNBasic\n",
        "\n",
        "# for implementing matrix factorization based recommendation system\n",
        "from surprise.prediction_algorithms.matrix_factorization import SVD\n",
        "\n",
        "# for implementing cross validation\n",
        "from surprise.model_selection import KFold"
      ]
    },
    {
      "cell_type": "markdown",
      "metadata": {
        "id": "ewHMWerQ2N9T"
      },
      "source": [
        "### **Loading the data**"
      ]
    },
    {
      "cell_type": "code",
      "execution_count": null,
      "metadata": {
        "id": "EdQIx3OLvOOG"
      },
      "outputs": [],
      "source": [
        "# Import the dataset\n",
        "# rating = pd.read_csv('ratings.csv')\n",
        "rating = pd.read_csv('/content/drive/MyDrive/ratings.csv') # Uncomment this line code  and comment above line of code if you are using google colab."
      ]
    },
    {
      "cell_type": "markdown",
      "metadata": {
        "id": "WAW3gTmB2N9a"
      },
      "source": [
        "Let's check the **info** of the data"
      ]
    },
    {
      "cell_type": "code",
      "execution_count": null,
      "metadata": {
        "id": "8zF1K1hDvOOG",
        "colab": {
          "base_uri": "https://localhost:8080/"
        },
        "outputId": "b23213eb-83d0-432c-9b96-c43dbf585a6a"
      },
      "outputs": [
        {
          "output_type": "stream",
          "name": "stdout",
          "text": [
            "<class 'pandas.core.frame.DataFrame'>\n",
            "RangeIndex: 100004 entries, 0 to 100003\n",
            "Data columns (total 4 columns):\n",
            " #   Column     Non-Null Count   Dtype  \n",
            "---  ------     --------------   -----  \n",
            " 0   userId     100004 non-null  int64  \n",
            " 1   movieId    100004 non-null  int64  \n",
            " 2   rating     100004 non-null  float64\n",
            " 3   timestamp  100004 non-null  int64  \n",
            "dtypes: float64(1), int64(3)\n",
            "memory usage: 3.1 MB\n"
          ]
        }
      ],
      "source": [
        "rating.info()"
      ]
    },
    {
      "cell_type": "markdown",
      "metadata": {
        "id": "202Ux9MH2N9f"
      },
      "source": [
        "- There are **1,00,004 observations** and **4 columns** in the data\n",
        "- All the columns are of **numeric data type**\n",
        "- The data type of the timestamp column is int64 which is not correct. We can convert this to DateTime format but **we don't need timestamp for our analysis**. Hence, **we can drop this column**"
      ]
    },
    {
      "cell_type": "code",
      "execution_count": null,
      "metadata": {
        "id": "fltadjTcvOOH"
      },
      "outputs": [],
      "source": [
        "# Dropping timestamp column\n",
        "rating = rating.drop(['timestamp'], axis=1)"
      ]
    },
    {
      "cell_type": "markdown",
      "metadata": {
        "id": "mHOFHmoBwIAw"
      },
      "source": [
        "## **Question 1: Exploring the dataset (7 Marks)**\n",
        "\n",
        "Let's explore the dataset and answer some basic data-related questions:\n",
        "\n",
        "###**Q 1.1 Print the top 5 rows of the dataset (1 Mark)**"
      ]
    },
    {
      "cell_type": "code",
      "execution_count": null,
      "metadata": {
        "id": "1Q6gs-IO2N9i",
        "colab": {
          "base_uri": "https://localhost:8080/",
          "height": 206
        },
        "outputId": "bf9454dc-633b-403e-8352-cd0e22baaa52"
      },
      "outputs": [
        {
          "output_type": "execute_result",
          "data": {
            "text/plain": [
              "   userId  movieId  rating\n",
              "0       1       31     2.5\n",
              "1       1     1029     3.0\n",
              "2       1     1061     3.0\n",
              "3       1     1129     2.0\n",
              "4       1     1172     4.0"
            ],
            "text/html": [
              "\n",
              "  <div id=\"df-b7698bf7-1655-40b7-9bfd-163f525cb829\">\n",
              "    <div class=\"colab-df-container\">\n",
              "      <div>\n",
              "<style scoped>\n",
              "    .dataframe tbody tr th:only-of-type {\n",
              "        vertical-align: middle;\n",
              "    }\n",
              "\n",
              "    .dataframe tbody tr th {\n",
              "        vertical-align: top;\n",
              "    }\n",
              "\n",
              "    .dataframe thead th {\n",
              "        text-align: right;\n",
              "    }\n",
              "</style>\n",
              "<table border=\"1\" class=\"dataframe\">\n",
              "  <thead>\n",
              "    <tr style=\"text-align: right;\">\n",
              "      <th></th>\n",
              "      <th>userId</th>\n",
              "      <th>movieId</th>\n",
              "      <th>rating</th>\n",
              "    </tr>\n",
              "  </thead>\n",
              "  <tbody>\n",
              "    <tr>\n",
              "      <th>0</th>\n",
              "      <td>1</td>\n",
              "      <td>31</td>\n",
              "      <td>2.5</td>\n",
              "    </tr>\n",
              "    <tr>\n",
              "      <th>1</th>\n",
              "      <td>1</td>\n",
              "      <td>1029</td>\n",
              "      <td>3.0</td>\n",
              "    </tr>\n",
              "    <tr>\n",
              "      <th>2</th>\n",
              "      <td>1</td>\n",
              "      <td>1061</td>\n",
              "      <td>3.0</td>\n",
              "    </tr>\n",
              "    <tr>\n",
              "      <th>3</th>\n",
              "      <td>1</td>\n",
              "      <td>1129</td>\n",
              "      <td>2.0</td>\n",
              "    </tr>\n",
              "    <tr>\n",
              "      <th>4</th>\n",
              "      <td>1</td>\n",
              "      <td>1172</td>\n",
              "      <td>4.0</td>\n",
              "    </tr>\n",
              "  </tbody>\n",
              "</table>\n",
              "</div>\n",
              "      <button class=\"colab-df-convert\" onclick=\"convertToInteractive('df-b7698bf7-1655-40b7-9bfd-163f525cb829')\"\n",
              "              title=\"Convert this dataframe to an interactive table.\"\n",
              "              style=\"display:none;\">\n",
              "        \n",
              "  <svg xmlns=\"http://www.w3.org/2000/svg\" height=\"24px\"viewBox=\"0 0 24 24\"\n",
              "       width=\"24px\">\n",
              "    <path d=\"M0 0h24v24H0V0z\" fill=\"none\"/>\n",
              "    <path d=\"M18.56 5.44l.94 2.06.94-2.06 2.06-.94-2.06-.94-.94-2.06-.94 2.06-2.06.94zm-11 1L8.5 8.5l.94-2.06 2.06-.94-2.06-.94L8.5 2.5l-.94 2.06-2.06.94zm10 10l.94 2.06.94-2.06 2.06-.94-2.06-.94-.94-2.06-.94 2.06-2.06.94z\"/><path d=\"M17.41 7.96l-1.37-1.37c-.4-.4-.92-.59-1.43-.59-.52 0-1.04.2-1.43.59L10.3 9.45l-7.72 7.72c-.78.78-.78 2.05 0 2.83L4 21.41c.39.39.9.59 1.41.59.51 0 1.02-.2 1.41-.59l7.78-7.78 2.81-2.81c.8-.78.8-2.07 0-2.86zM5.41 20L4 18.59l7.72-7.72 1.47 1.35L5.41 20z\"/>\n",
              "  </svg>\n",
              "      </button>\n",
              "      \n",
              "  <style>\n",
              "    .colab-df-container {\n",
              "      display:flex;\n",
              "      flex-wrap:wrap;\n",
              "      gap: 12px;\n",
              "    }\n",
              "\n",
              "    .colab-df-convert {\n",
              "      background-color: #E8F0FE;\n",
              "      border: none;\n",
              "      border-radius: 50%;\n",
              "      cursor: pointer;\n",
              "      display: none;\n",
              "      fill: #1967D2;\n",
              "      height: 32px;\n",
              "      padding: 0 0 0 0;\n",
              "      width: 32px;\n",
              "    }\n",
              "\n",
              "    .colab-df-convert:hover {\n",
              "      background-color: #E2EBFA;\n",
              "      box-shadow: 0px 1px 2px rgba(60, 64, 67, 0.3), 0px 1px 3px 1px rgba(60, 64, 67, 0.15);\n",
              "      fill: #174EA6;\n",
              "    }\n",
              "\n",
              "    [theme=dark] .colab-df-convert {\n",
              "      background-color: #3B4455;\n",
              "      fill: #D2E3FC;\n",
              "    }\n",
              "\n",
              "    [theme=dark] .colab-df-convert:hover {\n",
              "      background-color: #434B5C;\n",
              "      box-shadow: 0px 1px 3px 1px rgba(0, 0, 0, 0.15);\n",
              "      filter: drop-shadow(0px 1px 2px rgba(0, 0, 0, 0.3));\n",
              "      fill: #FFFFFF;\n",
              "    }\n",
              "  </style>\n",
              "\n",
              "      <script>\n",
              "        const buttonEl =\n",
              "          document.querySelector('#df-b7698bf7-1655-40b7-9bfd-163f525cb829 button.colab-df-convert');\n",
              "        buttonEl.style.display =\n",
              "          google.colab.kernel.accessAllowed ? 'block' : 'none';\n",
              "\n",
              "        async function convertToInteractive(key) {\n",
              "          const element = document.querySelector('#df-b7698bf7-1655-40b7-9bfd-163f525cb829');\n",
              "          const dataTable =\n",
              "            await google.colab.kernel.invokeFunction('convertToInteractive',\n",
              "                                                     [key], {});\n",
              "          if (!dataTable) return;\n",
              "\n",
              "          const docLinkHtml = 'Like what you see? Visit the ' +\n",
              "            '<a target=\"_blank\" href=https://colab.research.google.com/notebooks/data_table.ipynb>data table notebook</a>'\n",
              "            + ' to learn more about interactive tables.';\n",
              "          element.innerHTML = '';\n",
              "          dataTable['output_type'] = 'display_data';\n",
              "          await google.colab.output.renderOutput(dataTable, element);\n",
              "          const docLink = document.createElement('div');\n",
              "          docLink.innerHTML = docLinkHtml;\n",
              "          element.appendChild(docLink);\n",
              "        }\n",
              "      </script>\n",
              "    </div>\n",
              "  </div>\n",
              "  "
            ]
          },
          "metadata": {},
          "execution_count": 11
        }
      ],
      "source": [
        "# Printing the top 5 rows of the dataset Hint: use .head()\n",
        "\n",
        "# Remove _______and complete the code\n",
        "rating.head()"
      ]
    },
    {
      "cell_type": "markdown",
      "metadata": {
        "id": "fBZYy0HavOOH"
      },
      "source": [
        "### **Q 1.2 Describe the distribution of ratings. (1 Mark)**\n",
        "\n"
      ]
    },
    {
      "cell_type": "code",
      "execution_count": null,
      "metadata": {
        "id": "lO-EYEl3wIA2",
        "colab": {
          "base_uri": "https://localhost:8080/",
          "height": 313
        },
        "outputId": "cede41db-81b9-4ba3-9640-a663137c0d5f"
      },
      "outputs": [
        {
          "output_type": "display_data",
          "data": {
            "text/plain": [
              "<Figure size 864x288 with 1 Axes>"
            ],
            "image/png": "[encoded data removed]"
          },
          "metadata": {
            "needs_background": "light"
          }
        }
      ],
      "source": [
        "plt.figure(figsize = (12, 4))\n",
        "\n",
        "# Remove _______and complete the code\n",
        "sns.countplot(x='rating', data=rating)\n",
        "\n",
        "plt.tick_params(labelsize = 10)\n",
        "plt.title(\"Distribution of Ratings \", fontsize = 10)\n",
        "plt.xlabel(\"Ratings\", fontsize = 10)\n",
        "plt.ylabel(\"Number of Ratings\", fontsize = 10)\n",
        "plt.show()"
      ]
    },
    {
      "cell_type": "markdown",
      "metadata": {
        "id": "vgRDrtHhwIA4"
      },
      "source": [
        "**Write your Answer here:\n",
        "As per Histogram, Rating'4.0' has the highest count of ratings(>27000). Rating '3.0' being second with 20000+ and Rating '5.0' being third in the count of ratings with around 15000.\n",
        "The ratings are biased towards 3 and 4 more than the rest.**"
      ]
    },
    {
      "cell_type": "markdown",
      "metadata": {
        "id": "UOBD03d9vOOH"
      },
      "source": [
        "### **Q 1.3 What is the total number of unique users and unique movies? (1 Mark)**\n"
      ]
    },
    {
      "cell_type": "code",
      "execution_count": null,
      "metadata": {
        "id": "RMpbsZGGvOOH",
        "colab": {
          "base_uri": "https://localhost:8080/"
        },
        "outputId": "a03ed5f1-7529-44a1-bbe7-d3abdebfb45f"
      },
      "outputs": [
        {
          "output_type": "execute_result",
          "data": {
            "text/plain": [
              "671"
            ]
          },
          "metadata": {},
          "execution_count": 13
        }
      ],
      "source": [
        "# Finding number of unique users\n",
        "#remove _______ and complete the code\n",
        "rating['userId'].nunique()"
      ]
    },
    {
      "cell_type": "markdown",
      "metadata": {
        "id": "CI8gofnx2N9m"
      },
      "source": [
        "**Write your answer here:There are 671 unique users in the dataset**"
      ]
    },
    {
      "cell_type": "code",
      "execution_count": null,
      "metadata": {
        "id": "9A6Qmo_6vOOH",
        "colab": {
          "base_uri": "https://localhost:8080/"
        },
        "outputId": "dbf3f2eb-6958-4284-a382-fd5876e5fd52"
      },
      "outputs": [
        {
          "output_type": "execute_result",
          "data": {
            "text/plain": [
              "9066"
            ]
          },
          "metadata": {},
          "execution_count": 14
        }
      ],
      "source": [
        "# Finding number of unique movies\n",
        "# Remove _______ and complete the code\n",
        "\n",
        "rating['movieId'].nunique()"
      ]
    },
    {
      "cell_type": "markdown",
      "metadata": {
        "id": "mDWJghQ62N9o"
      },
      "source": [
        "**Write your answer here:There are 9066 unique movies in the dataset.\n",
        "As per the number of unique users and movies, there is a possibility of 671*9066=6083286 ratings in the dataset. But we only have 100004 ratings, i.e. not every user has rated every movie in the dataset. And we build a recommendation system to recommend movies to users which they have not interacted with.**"
      ]
    },
    {
      "cell_type": "markdown",
      "metadata": {
        "id": "mR9tzSzTvOOH"
      },
      "source": [
        "### **Q 1.4 Is there any movie that has been interacted with more than once by the same user? (1 Mark)**"
      ]
    },
    {
      "cell_type": "code",
      "execution_count": null,
      "metadata": {
        "id": "xstEDCVfvOOH",
        "colab": {
          "base_uri": "https://localhost:8080/",
          "height": 455
        },
        "outputId": "361cb0b1-5d6b-4d35-b543-1fb979d7e56f"
      },
      "outputs": [
        {
          "output_type": "execute_result",
          "data": {
            "text/plain": [
              "                rating\n",
              "userId movieId        \n",
              "1      31            1\n",
              "       1029          1\n",
              "       1061          1\n",
              "       1129          1\n",
              "       1172          1\n",
              "...                ...\n",
              "671    6268          1\n",
              "       6269          1\n",
              "       6365          1\n",
              "       6385          1\n",
              "       6565          1\n",
              "\n",
              "[100004 rows x 1 columns]"
            ],
            "text/html": [
              "\n",
              "  <div id=\"df-084f0f1c-9abb-468c-9f82-6f1d93a80343\">\n",
              "    <div class=\"colab-df-container\">\n",
              "      <div>\n",
              "<style scoped>\n",
              "    .dataframe tbody tr th:only-of-type {\n",
              "        vertical-align: middle;\n",
              "    }\n",
              "\n",
              "    .dataframe tbody tr th {\n",
              "        vertical-align: top;\n",
              "    }\n",
              "\n",
              "    .dataframe thead th {\n",
              "        text-align: right;\n",
              "    }\n",
              "</style>\n",
              "<table border=\"1\" class=\"dataframe\">\n",
              "  <thead>\n",
              "    <tr style=\"text-align: right;\">\n",
              "      <th></th>\n",
              "      <th></th>\n",
              "      <th>rating</th>\n",
              "    </tr>\n",
              "    <tr>\n",
              "      <th>userId</th>\n",
              "      <th>movieId</th>\n",
              "      <th></th>\n",
              "    </tr>\n",
              "  </thead>\n",
              "  <tbody>\n",
              "    <tr>\n",
              "      <th rowspan=\"5\" valign=\"top\">1</th>\n",
              "      <th>31</th>\n",
              "      <td>1</td>\n",
              "    </tr>\n",
              "    <tr>\n",
              "      <th>1029</th>\n",
              "      <td>1</td>\n",
              "    </tr>\n",
              "    <tr>\n",
              "      <th>1061</th>\n",
              "      <td>1</td>\n",
              "    </tr>\n",
              "    <tr>\n",
              "      <th>1129</th>\n",
              "      <td>1</td>\n",
              "    </tr>\n",
              "    <tr>\n",
              "      <th>1172</th>\n",
              "      <td>1</td>\n",
              "    </tr>\n",
              "    <tr>\n",
              "      <th>...</th>\n",
              "      <th>...</th>\n",
              "      <td>...</td>\n",
              "    </tr>\n",
              "    <tr>\n",
              "      <th rowspan=\"5\" valign=\"top\">671</th>\n",
              "      <th>6268</th>\n",
              "      <td>1</td>\n",
              "    </tr>\n",
              "    <tr>\n",
              "      <th>6269</th>\n",
              "      <td>1</td>\n",
              "    </tr>\n",
              "    <tr>\n",
              "      <th>6365</th>\n",
              "      <td>1</td>\n",
              "    </tr>\n",
              "    <tr>\n",
              "      <th>6385</th>\n",
              "      <td>1</td>\n",
              "    </tr>\n",
              "    <tr>\n",
              "      <th>6565</th>\n",
              "      <td>1</td>\n",
              "    </tr>\n",
              "  </tbody>\n",
              "</table>\n",
              "<p>100004 rows × 1 columns</p>\n",
              "</div>\n",
              "      <button class=\"colab-df-convert\" onclick=\"convertToInteractive('df-084f0f1c-9abb-468c-9f82-6f1d93a80343')\"\n",
              "              title=\"Convert this dataframe to an interactive table.\"\n",
              "              style=\"display:none;\">\n",
              "        \n",
              "  <svg xmlns=\"http://www.w3.org/2000/svg\" height=\"24px\"viewBox=\"0 0 24 24\"\n",
              "       width=\"24px\">\n",
              "    <path d=\"M0 0h24v24H0V0z\" fill=\"none\"/>\n",
              "    <path d=\"M18.56 5.44l.94 2.06.94-2.06 2.06-.94-2.06-.94-.94-2.06-.94 2.06-2.06.94zm-11 1L8.5 8.5l.94-2.06 2.06-.94-2.06-.94L8.5 2.5l-.94 2.06-2.06.94zm10 10l.94 2.06.94-2.06 2.06-.94-2.06-.94-.94-2.06-.94 2.06-2.06.94z\"/><path d=\"M17.41 7.96l-1.37-1.37c-.4-.4-.92-.59-1.43-.59-.52 0-1.04.2-1.43.59L10.3 9.45l-7.72 7.72c-.78.78-.78 2.05 0 2.83L4 21.41c.39.39.9.59 1.41.59.51 0 1.02-.2 1.41-.59l7.78-7.78 2.81-2.81c.8-.78.8-2.07 0-2.86zM5.41 20L4 18.59l7.72-7.72 1.47 1.35L5.41 20z\"/>\n",
              "  </svg>\n",
              "      </button>\n",
              "      \n",
              "  <style>\n",
              "    .colab-df-container {\n",
              "      display:flex;\n",
              "      flex-wrap:wrap;\n",
              "      gap: 12px;\n",
              "    }\n",
              "\n",
              "    .colab-df-convert {\n",
              "      background-color: #E8F0FE;\n",
              "      border: none;\n",
              "      border-radius: 50%;\n",
              "      cursor: pointer;\n",
              "      display: none;\n",
              "      fill: #1967D2;\n",
              "      height: 32px;\n",
              "      padding: 0 0 0 0;\n",
              "      width: 32px;\n",
              "    }\n",
              "\n",
              "    .colab-df-convert:hover {\n",
              "      background-color: #E2EBFA;\n",
              "      box-shadow: 0px 1px 2px rgba(60, 64, 67, 0.3), 0px 1px 3px 1px rgba(60, 64, 67, 0.15);\n",
              "      fill: #174EA6;\n",
              "    }\n",
              "\n",
              "    [theme=dark] .colab-df-convert {\n",
              "      background-color: #3B4455;\n",
              "      fill: #D2E3FC;\n",
              "    }\n",
              "\n",
              "    [theme=dark] .colab-df-convert:hover {\n",
              "      background-color: #434B5C;\n",
              "      box-shadow: 0px 1px 3px 1px rgba(0, 0, 0, 0.15);\n",
              "      filter: drop-shadow(0px 1px 2px rgba(0, 0, 0, 0.3));\n",
              "      fill: #FFFFFF;\n",
              "    }\n",
              "  </style>\n",
              "\n",
              "      <script>\n",
              "        const buttonEl =\n",
              "          document.querySelector('#df-084f0f1c-9abb-468c-9f82-6f1d93a80343 button.colab-df-convert');\n",
              "        buttonEl.style.display =\n",
              "          google.colab.kernel.accessAllowed ? 'block' : 'none';\n",
              "\n",
              "        async function convertToInteractive(key) {\n",
              "          const element = document.querySelector('#df-084f0f1c-9abb-468c-9f82-6f1d93a80343');\n",
              "          const dataTable =\n",
              "            await google.colab.kernel.invokeFunction('convertToInteractive',\n",
              "                                                     [key], {});\n",
              "          if (!dataTable) return;\n",
              "\n",
              "          const docLinkHtml = 'Like what you see? Visit the ' +\n",
              "            '<a target=\"_blank\" href=https://colab.research.google.com/notebooks/data_table.ipynb>data table notebook</a>'\n",
              "            + ' to learn more about interactive tables.';\n",
              "          element.innerHTML = '';\n",
              "          dataTable['output_type'] = 'display_data';\n",
              "          await google.colab.output.renderOutput(dataTable, element);\n",
              "          const docLink = document.createElement('div');\n",
              "          docLink.innerHTML = docLinkHtml;\n",
              "          element.appendChild(docLink);\n",
              "        }\n",
              "      </script>\n",
              "    </div>\n",
              "  </div>\n",
              "  "
            ]
          },
          "metadata": {},
          "execution_count": 15
        }
      ],
      "source": [
        "rating.groupby(['userId', 'movieId']).count()"
      ]
    },
    {
      "cell_type": "code",
      "execution_count": null,
      "metadata": {
        "id": "d1E2i5rZvOOI",
        "colab": {
          "base_uri": "https://localhost:8080/"
        },
        "outputId": "06087413-ab81-444c-bd66-4d2e682c4e1a"
      },
      "outputs": [
        {
          "output_type": "execute_result",
          "data": {
            "text/plain": [
              "100004"
            ]
          },
          "metadata": {},
          "execution_count": 16
        }
      ],
      "source": [
        "rating.groupby(['userId', 'movieId']).count()['rating'].sum()"
      ]
    },
    {
      "cell_type": "markdown",
      "metadata": {
        "id": "ynCEs7q3vOOI"
      },
      "source": [
        "**Write your Answer here:The sum is equal to the total number of observations which implies that there is only interation between a pair of movies and a user.**"
      ]
    },
    {
      "cell_type": "markdown",
      "metadata": {
        "id": "JQgjqRnevOOI"
      },
      "source": [
        "### **Q 1.5 Which is the most interacted movie in the dataset? (1 Mark)**"
      ]
    },
    {
      "cell_type": "code",
      "execution_count": null,
      "metadata": {
        "id": "4LBbXdoDvOOI",
        "colab": {
          "base_uri": "https://localhost:8080/"
        },
        "outputId": "742575ad-2e65-4838-cf14-d471ce017b1e"
      },
      "outputs": [
        {
          "output_type": "execute_result",
          "data": {
            "text/plain": [
              "356       341\n",
              "296       324\n",
              "318       311\n",
              "593       304\n",
              "260       291\n",
              "         ... \n",
              "98604       1\n",
              "103659      1\n",
              "104419      1\n",
              "115927      1\n",
              "6425        1\n",
              "Name: movieId, Length: 9066, dtype: int64"
            ]
          },
          "metadata": {},
          "execution_count": 17
        }
      ],
      "source": [
        "# Remove _______ and complete the code\n",
        "rating['movieId'].value_counts()"
      ]
    },
    {
      "cell_type": "markdown",
      "metadata": {
        "id": "PSo-c_XAvOOI"
      },
      "source": [
        "**Write your Answer here:The movie with movieId: 356 has been interacted by most users which is 341.\n",
        "But there is still a possibility of 671-341=330 more interactions as we have 671 unique users in our dataset. For those 330 remaining users, we can build a recommendation system to predict who is most likely to interact with the movie.**"
      ]
    },
    {
      "cell_type": "code",
      "execution_count": null,
      "metadata": {
        "id": "fVkc1FK22N9r",
        "colab": {
          "base_uri": "https://localhost:8080/",
          "height": 448
        },
        "outputId": "0d5c1267-cb22-483a-915a-436efa90d946"
      },
      "outputs": [
        {
          "output_type": "display_data",
          "data": {
            "text/plain": [
              "<Figure size 504x504 with 1 Axes>"
            ],
            "image/png": "[encoded data removed]"
          },
          "metadata": {
            "needs_background": "light"
          }
        }
      ],
      "source": [
        "# Plotting distributions of ratings for 341 interactions with movieid 356 \n",
        "plt.figure(figsize=(7,7))\n",
        "\n",
        "rating[rating['movieId'] == 356]['rating'].value_counts().plot(kind='bar')\n",
        "\n",
        "plt.xlabel('Rating')\n",
        "\n",
        "plt.ylabel('Count')\n",
        "\n",
        "plt.show()"
      ]
    },
    {
      "cell_type": "markdown",
      "metadata": {
        "id": "0pQn17ro2N9s"
      },
      "source": [
        "**Write your Answer here: We can see that this movie has been liked by the majority of users, as the count of ratings 5 and 4 are higher than the count of the other ratings.**"
      ]
    },
    {
      "cell_type": "markdown",
      "metadata": {
        "id": "0kXJ_iTEvOOI"
      },
      "source": [
        "### **Q 1.6 Which user interacted the most with any movie in the dataset? (1 Mark)**"
      ]
    },
    {
      "cell_type": "code",
      "execution_count": null,
      "metadata": {
        "id": "t7ehlMLDvOOI",
        "colab": {
          "base_uri": "https://localhost:8080/"
        },
        "outputId": "5b60c5e9-4411-405c-d089-6fd8ccc02521"
      },
      "outputs": [
        {
          "output_type": "execute_result",
          "data": {
            "text/plain": [
              "547    2391\n",
              "564    1868\n",
              "624    1735\n",
              "15     1700\n",
              "73     1610\n",
              "       ... \n",
              "296      20\n",
              "289      20\n",
              "249      20\n",
              "221      20\n",
              "1        20\n",
              "Name: userId, Length: 671, dtype: int64"
            ]
          },
          "metadata": {},
          "execution_count": 20
        }
      ],
      "source": [
        "# Remove _______ and complete the code\n",
        "rating['userId'].value_counts()"
      ]
    },
    {
      "cell_type": "markdown",
      "metadata": {
        "id": "W-Sdna2ovOOI"
      },
      "source": [
        "**Write your Answer here:The user with userId 547 has interacted with the most number of movies. i.e. 2391 times.\n",
        "But still, there is a possibility of 9066-2391=6675 more interactions as we have 9066 unique movies in our dataset. For those 6675 remaining movies, we can build a recommendation system to predict which movies are most likely to be watched by this user.**"
      ]
    },
    {
      "cell_type": "markdown",
      "metadata": {
        "id": "lHReghdivOOI"
      },
      "source": [
        "### **Q 1.7 What is the distribution of the user-movie interactions in this dataset? (1 Mark)**"
      ]
    },
    {
      "cell_type": "code",
      "execution_count": null,
      "metadata": {
        "id": "0XArWJ7l2N9v",
        "colab": {
          "base_uri": "https://localhost:8080/"
        },
        "outputId": "8e66ef78-16ca-40a0-e2bf-4bf11bff7568"
      },
      "outputs": [
        {
          "output_type": "execute_result",
          "data": {
            "text/plain": [
              "userId\n",
              "1       20\n",
              "2       76\n",
              "3       51\n",
              "4      204\n",
              "5      100\n",
              "      ... \n",
              "667     68\n",
              "668     20\n",
              "669     37\n",
              "670     31\n",
              "671    115\n",
              "Name: movieId, Length: 671, dtype: int64"
            ]
          },
          "metadata": {},
          "execution_count": 21
        }
      ],
      "source": [
        "# Finding user-movie interactions distribution\n",
        "count_interactions = rating.groupby('userId').count()['movieId']\n",
        "count_interactions"
      ]
    },
    {
      "cell_type": "code",
      "execution_count": null,
      "metadata": {
        "id": "JoNCRm88vOOI",
        "colab": {
          "base_uri": "https://localhost:8080/",
          "height": 316
        },
        "outputId": "10f08b97-bcf9-4622-cb96-5dcdda3e3f59"
      },
      "outputs": [
        {
          "output_type": "display_data",
          "data": {
            "text/plain": [
              "<Figure size 1080x504 with 1 Axes>"
            ],
            "image/png": "[encoded data removed]"
          },
          "metadata": {
            "needs_background": "light"
          }
        }
      ],
      "source": [
        "# Plotting user-movie interactions distribution\n",
        "\n",
        "plt.figure(figsize=(15,7))\n",
        "# Remove _______ and complete the code\n",
        "\n",
        "sns.histplot(count_interactions)\n",
        "\n",
        "plt.xlabel('Number of Interactions by Users')\n",
        "\n",
        "plt.show()"
      ]
    },
    {
      "cell_type": "markdown",
      "metadata": {
        "id": "vmj5nPiN2N9w"
      },
      "source": [
        "**Write your Answer here:The distribution is highly skewed to the right. Only a few users interacted with more than 250 movies.**"
      ]
    },
    {
      "cell_type": "markdown",
      "metadata": {
        "id": "knK9ML0bwIBR"
      },
      "source": [
        "#### As we have now explored the data, let's start building Recommendation systems\n",
        "\n",
        "## **Question 2: Create Rank-Based Recommendation System (3 Marks)**"
      ]
    },
    {
      "cell_type": "markdown",
      "metadata": {
        "id": "CqFN5jDJvOOJ"
      },
      "source": [
        "### **Model 1: Rank-Based Recommendation System**"
      ]
    },
    {
      "cell_type": "markdown",
      "metadata": {
        "id": "W26vIRn1vOOJ"
      },
      "source": [
        "Rank-based recommendation systems provide recommendations based on the most popular items. This kind of recommendation system is useful when we have **cold start** problems. Cold start refers to the issue when we get a new user into the system and the machine is not able to recommend movies to the new user, as the user did not have any historical interactions in the dataset. In those cases, we can use rank-based recommendation system to recommend movies to the new user."
      ]
    },
    {
      "cell_type": "markdown",
      "metadata": {
        "id": "I3t4uyGlvOOK"
      },
      "source": [
        "To build the rank-based recommendation system, we take **average** of all the ratings provided to each movie and then rank them based on their average rating."
      ]
    },
    {
      "cell_type": "code",
      "execution_count": null,
      "metadata": {
        "id": "xuMR3XFIvOOK"
      },
      "outputs": [],
      "source": [
        "# Remove _______ and complete the code\n",
        "\n",
        "# Calculating average ratings\n",
        "average_rating = rating.groupby('movieId').mean()['rating']\n",
        "# Calculating the count of ratings\n",
        "count_rating = rating.groupby('movieId').count()['rating']\n",
        "\n",
        "# Making a dataframe with the count and average of ratings\n",
        "final_rating = pd.DataFrame({'avg_rating':average_rating, 'rating_count':count_rating})"
      ]
    },
    {
      "cell_type": "code",
      "execution_count": null,
      "metadata": {
        "id": "J6NLX6FIvOOK",
        "colab": {
          "base_uri": "https://localhost:8080/",
          "height": 238
        },
        "outputId": "72f3069c-dfe0-42b2-b8af-a12e6a56dec6"
      },
      "outputs": [
        {
          "output_type": "execute_result",
          "data": {
            "text/plain": [
              "         avg_rating  rating_count\n",
              "movieId                          \n",
              "1          3.872470           247\n",
              "2          3.401869           107\n",
              "3          3.161017            59\n",
              "4          2.384615            13\n",
              "5          3.267857            56"
            ],
            "text/html": [
              "\n",
              "  <div id=\"df-6041719e-06ab-490a-b542-d7df5d1f9248\">\n",
              "    <div class=\"colab-df-container\">\n",
              "      <div>\n",
              "<style scoped>\n",
              "    .dataframe tbody tr th:only-of-type {\n",
              "        vertical-align: middle;\n",
              "    }\n",
              "\n",
              "    .dataframe tbody tr th {\n",
              "        vertical-align: top;\n",
              "    }\n",
              "\n",
              "    .dataframe thead th {\n",
              "        text-align: right;\n",
              "    }\n",
              "</style>\n",
              "<table border=\"1\" class=\"dataframe\">\n",
              "  <thead>\n",
              "    <tr style=\"text-align: right;\">\n",
              "      <th></th>\n",
              "      <th>avg_rating</th>\n",
              "      <th>rating_count</th>\n",
              "    </tr>\n",
              "    <tr>\n",
              "      <th>movieId</th>\n",
              "      <th></th>\n",
              "      <th></th>\n",
              "    </tr>\n",
              "  </thead>\n",
              "  <tbody>\n",
              "    <tr>\n",
              "      <th>1</th>\n",
              "      <td>3.872470</td>\n",
              "      <td>247</td>\n",
              "    </tr>\n",
              "    <tr>\n",
              "      <th>2</th>\n",
              "      <td>3.401869</td>\n",
              "      <td>107</td>\n",
              "    </tr>\n",
              "    <tr>\n",
              "      <th>3</th>\n",
              "      <td>3.161017</td>\n",
              "      <td>59</td>\n",
              "    </tr>\n",
              "    <tr>\n",
              "      <th>4</th>\n",
              "      <td>2.384615</td>\n",
              "      <td>13</td>\n",
              "    </tr>\n",
              "    <tr>\n",
              "      <th>5</th>\n",
              "      <td>3.267857</td>\n",
              "      <td>56</td>\n",
              "    </tr>\n",
              "  </tbody>\n",
              "</table>\n",
              "</div>\n",
              "      <button class=\"colab-df-convert\" onclick=\"convertToInteractive('df-6041719e-06ab-490a-b542-d7df5d1f9248')\"\n",
              "              title=\"Convert this dataframe to an interactive table.\"\n",
              "              style=\"display:none;\">\n",
              "        \n",
              "  <svg xmlns=\"http://www.w3.org/2000/svg\" height=\"24px\"viewBox=\"0 0 24 24\"\n",
              "       width=\"24px\">\n",
              "    <path d=\"M0 0h24v24H0V0z\" fill=\"none\"/>\n",
              "    <path d=\"M18.56 5.44l.94 2.06.94-2.06 2.06-.94-2.06-.94-.94-2.06-.94 2.06-2.06.94zm-11 1L8.5 8.5l.94-2.06 2.06-.94-2.06-.94L8.5 2.5l-.94 2.06-2.06.94zm10 10l.94 2.06.94-2.06 2.06-.94-2.06-.94-.94-2.06-.94 2.06-2.06.94z\"/><path d=\"M17.41 7.96l-1.37-1.37c-.4-.4-.92-.59-1.43-.59-.52 0-1.04.2-1.43.59L10.3 9.45l-7.72 7.72c-.78.78-.78 2.05 0 2.83L4 21.41c.39.39.9.59 1.41.59.51 0 1.02-.2 1.41-.59l7.78-7.78 2.81-2.81c.8-.78.8-2.07 0-2.86zM5.41 20L4 18.59l7.72-7.72 1.47 1.35L5.41 20z\"/>\n",
              "  </svg>\n",
              "      </button>\n",
              "      \n",
              "  <style>\n",
              "    .colab-df-container {\n",
              "      display:flex;\n",
              "      flex-wrap:wrap;\n",
              "      gap: 12px;\n",
              "    }\n",
              "\n",
              "    .colab-df-convert {\n",
              "      background-color: #E8F0FE;\n",
              "      border: none;\n",
              "      border-radius: 50%;\n",
              "      cursor: pointer;\n",
              "      display: none;\n",
              "      fill: #1967D2;\n",
              "      height: 32px;\n",
              "      padding: 0 0 0 0;\n",
              "      width: 32px;\n",
              "    }\n",
              "\n",
              "    .colab-df-convert:hover {\n",
              "      background-color: #E2EBFA;\n",
              "      box-shadow: 0px 1px 2px rgba(60, 64, 67, 0.3), 0px 1px 3px 1px rgba(60, 64, 67, 0.15);\n",
              "      fill: #174EA6;\n",
              "    }\n",
              "\n",
              "    [theme=dark] .colab-df-convert {\n",
              "      background-color: #3B4455;\n",
              "      fill: #D2E3FC;\n",
              "    }\n",
              "\n",
              "    [theme=dark] .colab-df-convert:hover {\n",
              "      background-color: #434B5C;\n",
              "      box-shadow: 0px 1px 3px 1px rgba(0, 0, 0, 0.15);\n",
              "      filter: drop-shadow(0px 1px 2px rgba(0, 0, 0, 0.3));\n",
              "      fill: #FFFFFF;\n",
              "    }\n",
              "  </style>\n",
              "\n",
              "      <script>\n",
              "        const buttonEl =\n",
              "          document.querySelector('#df-6041719e-06ab-490a-b542-d7df5d1f9248 button.colab-df-convert');\n",
              "        buttonEl.style.display =\n",
              "          google.colab.kernel.accessAllowed ? 'block' : 'none';\n",
              "\n",
              "        async function convertToInteractive(key) {\n",
              "          const element = document.querySelector('#df-6041719e-06ab-490a-b542-d7df5d1f9248');\n",
              "          const dataTable =\n",
              "            await google.colab.kernel.invokeFunction('convertToInteractive',\n",
              "                                                     [key], {});\n",
              "          if (!dataTable) return;\n",
              "\n",
              "          const docLinkHtml = 'Like what you see? Visit the ' +\n",
              "            '<a target=\"_blank\" href=https://colab.research.google.com/notebooks/data_table.ipynb>data table notebook</a>'\n",
              "            + ' to learn more about interactive tables.';\n",
              "          element.innerHTML = '';\n",
              "          dataTable['output_type'] = 'display_data';\n",
              "          await google.colab.output.renderOutput(dataTable, element);\n",
              "          const docLink = document.createElement('div');\n",
              "          docLink.innerHTML = docLinkHtml;\n",
              "          element.appendChild(docLink);\n",
              "        }\n",
              "      </script>\n",
              "    </div>\n",
              "  </div>\n",
              "  "
            ]
          },
          "metadata": {},
          "execution_count": 24
        }
      ],
      "source": [
        "final_rating.head()"
      ]
    },
    {
      "cell_type": "markdown",
      "metadata": {
        "id": "Pv31nHm_2N9y"
      },
      "source": [
        "Now, let's create a function to find the **top n movies** for a recommendation based on the average ratings of movies. We can also add a **threshold for a minimum number of interactions** for a movie to be considered for recommendation. "
      ]
    },
    {
      "cell_type": "code",
      "execution_count": null,
      "metadata": {
        "id": "Fy0SbxnevOOK"
      },
      "outputs": [],
      "source": [
        "def top_n_movies(data, n, min_interaction=100):\n",
        "    \n",
        "    #Finding movies with minimum number of interactions\n",
        "    recommendations = data[data['rating_count'] > min_interaction]\n",
        "    \n",
        "    #Sorting values w.r.t average rating \n",
        "    recommendations = recommendations.sort_values(by='avg_rating', ascending=False)\n",
        "    \n",
        "    return recommendations.index[:n]"
      ]
    },
    {
      "cell_type": "markdown",
      "metadata": {
        "id": "fi9vhL4Z2N9y"
      },
      "source": [
        "We can **use this function with different n's and minimum interactions** to get movies to recommend"
      ]
    },
    {
      "cell_type": "markdown",
      "metadata": {
        "id": "hkz4LlTpvOOK"
      },
      "source": [
        "#### **Recommending top 5 movies with 50 minimum interactions based on popularity**"
      ]
    },
    {
      "cell_type": "code",
      "execution_count": null,
      "metadata": {
        "id": "u-JX_ES9vOOK",
        "colab": {
          "base_uri": "https://localhost:8080/"
        },
        "outputId": "0fce1d02-b9fe-4369-c23e-e5f3517a93dd"
      },
      "outputs": [
        {
          "output_type": "execute_result",
          "data": {
            "text/plain": [
              "[858, 318, 913, 1221, 50]"
            ]
          },
          "metadata": {},
          "execution_count": 26
        }
      ],
      "source": [
        "# Remove _______ and complete the code\n",
        "list(top_n_movies(final_rating, 5, 50))"
      ]
    },
    {
      "cell_type": "markdown",
      "metadata": {
        "id": "KRFTrsBVvOOK"
      },
      "source": [
        "#### **Recommending top 5 movies with 100 minimum interactions based on popularity**"
      ]
    },
    {
      "cell_type": "code",
      "execution_count": null,
      "metadata": {
        "id": "U2wvxF2rvOOK",
        "colab": {
          "base_uri": "https://localhost:8080/"
        },
        "outputId": "64c9c302-70b1-48f4-8bb9-61967d707c9c"
      },
      "outputs": [
        {
          "output_type": "execute_result",
          "data": {
            "text/plain": [
              "[858, 318, 1221, 50, 527]"
            ]
          },
          "metadata": {},
          "execution_count": 27
        }
      ],
      "source": [
        "# Remove _______ and complete the code\n",
        "list(top_n_movies(final_rating, 5, 100))"
      ]
    },
    {
      "cell_type": "markdown",
      "metadata": {
        "id": "_3SW8bLkvOOK"
      },
      "source": [
        "#### **Recommending top 5 movies with 200 minimum interactions based on popularity**"
      ]
    },
    {
      "cell_type": "code",
      "execution_count": null,
      "metadata": {
        "id": "t6ziQvDgvOOK",
        "colab": {
          "base_uri": "https://localhost:8080/"
        },
        "outputId": "7a8287ae-65b5-4ae1-c3c6-e070855d080a"
      },
      "outputs": [
        {
          "output_type": "execute_result",
          "data": {
            "text/plain": [
              "[318, 50, 527, 608, 296]"
            ]
          },
          "metadata": {},
          "execution_count": 28
        }
      ],
      "source": [
        "# Remove _______ and complete the code\n",
        "list(top_n_movies(final_rating, 5, 200))"
      ]
    },
    {
      "cell_type": "markdown",
      "metadata": {
        "id": "r4vrsunx2N91"
      },
      "source": [
        "Now that we have seen **how to apply the Rank-Based Recommendation System**, let's apply the **Collaborative Filtering Based Recommendation Systems**."
      ]
    },
    {
      "cell_type": "markdown",
      "metadata": {
        "id": "sJI5kiiGvOOK"
      },
      "source": [
        "## **Model 2: User based Collaborative Filtering Recommendation System (7 Marks)**"
      ]
    },
    {
      "cell_type": "markdown",
      "metadata": {
        "id": "wVjPUvj82N92"
      },
      "source": [
        "![collaborative_filtering.PNG](https://raw.githubusercontent.com/GL-ACADOPS/RS-IMAGES/main/collaborative_filtering.PNG)"
      ]
    },
    {
      "cell_type": "markdown",
      "metadata": {
        "id": "H4yaWX37vOOK"
      },
      "source": [
        "In the above **interactions matrix**, out of users B and C, which user is most likely to interact with the movie, \"The Terminal\"?"
      ]
    },
    {
      "cell_type": "markdown",
      "metadata": {
        "id": "QoSujZuuvOOK"
      },
      "source": [
        "In this type of recommendation system, `we do not need any information` about the users or items. We only need user item interaction data to build a collaborative recommendation system. For example - \n",
        "<ol>\n",
        "    <li><b>Ratings</b> provided by users. For example - ratings of books on goodread, movie ratings on imdb etc</li>\n",
        "    <li><b>Likes</b> of users on different facebook posts, likes on youtube videos</li>\n",
        "    <li><b>Use/buying</b> of a product by users. For example - buying different items on e-commerce sites</li>\n",
        "    <li><b>Reading</b> of articles by readers on various blogs</li>\n",
        "</ol>"
      ]
    },
    {
      "cell_type": "markdown",
      "metadata": {
        "id": "A_3GtPzuvOOK"
      },
      "source": [
        "**Types of Collaborative Filtering**"
      ]
    },
    {
      "cell_type": "markdown",
      "metadata": {
        "id": "igZX3WbqvOOK"
      },
      "source": [
        "- Similarity/Neighborhood based\n",
        "\n",
        " * User-User Similarity Based  \n",
        " * Item-Item similarity based\n",
        "\n",
        "- Model based"
      ]
    },
    {
      "cell_type": "markdown",
      "metadata": {
        "id": "0D3MuFHqvOOK"
      },
      "source": [
        "#### **Building Similarity/Neighborhood based Collaborative Filtering**"
      ]
    },
    {
      "cell_type": "markdown",
      "metadata": {
        "id": "vyCEv8eJvOOK"
      },
      "source": [
        "![test_image](https://raw.githubusercontent.com/GL-ACADOPS/RS-IMAGES/main/cosine.PNG)"
      ]
    },
    {
      "cell_type": "markdown",
      "metadata": {
        "id": "skzc0N1_nVNB"
      },
      "source": [
        "### **Building a baseline user-user similarity based recommendation system**"
      ]
    },
    {
      "cell_type": "markdown",
      "metadata": {
        "id": "d4Uo_MYMnVNB"
      },
      "source": [
        "- Below, we are building **similarity-based recommendation systems** using `cosine` similarity and using **KNN to find similar users** which are the nearest neighbor to the given user.  \n",
        "- We will be using a new library, called `surprise`, to build the remaining models. Let's first import the necessary classes and functions from this library."
      ]
    },
    {
      "cell_type": "markdown",
      "metadata": {
        "id": "8hxjJMTwnVNB"
      },
      "source": [
        "Below we are loading the **`rating` dataset**, which is a **pandas DataFrame**, into a **different format called `surprise.dataset.DatasetAutoFolds`**, which is required by this library. To do this, we will be **using the classes `Reader` and `Dataset`**. Finally splitting the data into train and test set."
      ]
    },
    {
      "cell_type": "markdown",
      "source": [
        "#### **Making the dataset into surprise dataset and splitting it into train and test set**"
      ],
      "metadata": {
        "id": "n3PpFZlW0q_d"
      }
    },
    {
      "cell_type": "code",
      "execution_count": null,
      "metadata": {
        "id": "rGfYDiOCpe4X"
      },
      "outputs": [],
      "source": [
        "# Instantiating Reader scale with expected rating scale\n",
        "reader = Reader(rating_scale=(0, 5))\n",
        "\n",
        "# Loading the rating dataset\n",
        "data = Dataset.load_from_df(rating[['userId', 'movieId', 'rating']], reader)\n",
        "\n",
        "# Splitting the data into train and test dataset\n",
        "trainset, testset = train_test_split(data, test_size=0.2, random_state=42)"
      ]
    },
    {
      "cell_type": "markdown",
      "metadata": {
        "id": "DmHTEt7TnVNC"
      },
      "source": [
        "#### **Build the first baseline similarity based recommendation system using cosine similarity and KNN**"
      ]
    },
    {
      "cell_type": "code",
      "execution_count": null,
      "metadata": {
        "id": "vO3FL7iape8A",
        "colab": {
          "base_uri": "https://localhost:8080/"
        },
        "outputId": "552b8f66-3689-48ed-b571-11dde9813f27"
      },
      "outputs": [
        {
          "output_type": "stream",
          "name": "stdout",
          "text": [
            "RMSE: 0.9925\n"
          ]
        },
        {
          "output_type": "execute_result",
          "data": {
            "text/plain": [
              "0.9924509041520163"
            ]
          },
          "metadata": {},
          "execution_count": 30
        }
      ],
      "source": [
        "# Remove _______ and complete the code\n",
        "sim_options = {'name': 'cosine',\n",
        "               'user_based': True}\n",
        "# Defining Nearest neighbour algorithm\n",
        "algo_knn_user = KNNBasic(sim_options=sim_options,verbose=False)\n",
        "\n",
        "# Train the algorithm on the trainset or fitting the model on train dataset \n",
        "algo_knn_user.fit(trainset)\n",
        "\n",
        "# Predict ratings for the testset\n",
        "predictions = algo_knn_user.test(testset)\n",
        "\n",
        "# Then compute RMSE\n",
        "accuracy.rmse(predictions)"
      ]
    },
    {
      "cell_type": "markdown",
      "metadata": {
        "id": "6y7zChf8wIBr"
      },
      "source": [
        "### **Q 3.1 What is the RMSE for baseline user based collaborative filtering recommendation system? (1 Mark)**"
      ]
    },
    {
      "cell_type": "markdown",
      "metadata": {
        "id": "yE5kvdZenVNC"
      },
      "source": [
        "**Write your Answer here:As we can see from above, these baseline model has RMSE=0.9925 on test set, we will try to improve this number later by using GridSearchCV tuning different hyperparameters of this algorithm.**"
      ]
    },
    {
      "cell_type": "markdown",
      "metadata": {
        "id": "qelE7GyrwIBs"
      },
      "source": [
        "### **Q 3.2 What is the Predicted  rating for an user with userId=4 and for movieId=10 and movieId=3? (1 Mark)**"
      ]
    },
    {
      "cell_type": "markdown",
      "metadata": {
        "id": "reFD0-nsnVNC"
      },
      "source": [
        "Let's us now predict rating for an user with `userId=4` and for `movieId=10`"
      ]
    },
    {
      "cell_type": "code",
      "execution_count": null,
      "metadata": {
        "id": "Sxd23bZ9pe_x",
        "colab": {
          "base_uri": "https://localhost:8080/"
        },
        "outputId": "eee8ae76-5a89-4135-f5d5-77f9243f8294"
      },
      "outputs": [
        {
          "output_type": "stream",
          "name": "stdout",
          "text": [
            "user: 4          item: 10         r_ui = 4.00   est = 3.62   {'actual_k': 40, 'was_impossible': False}\n"
          ]
        },
        {
          "output_type": "execute_result",
          "data": {
            "text/plain": [
              "Prediction(uid=4, iid=10, r_ui=4, est=3.6244912065910952, details={'actual_k': 40, 'was_impossible': False})"
            ]
          },
          "metadata": {},
          "execution_count": 31
        }
      ],
      "source": [
        "# Remove _______ and complete the code\n",
        "algo_knn_user.predict(4, 10, r_ui=4, verbose=True)"
      ]
    },
    {
      "cell_type": "markdown",
      "metadata": {
        "id": "QuVbIR3SnVNE"
      },
      "source": [
        "**Write your Answer here: As we can see, the actual rating for this user-movie pair is 4 and predicted rating is 3.62 by this similarity based baseline model.**"
      ]
    },
    {
      "cell_type": "markdown",
      "metadata": {
        "id": "EXSgq8OEnVNE"
      },
      "source": [
        "Let's predict the rating for the same `userId=4` but for a movie which this user has not interacted before i.e. `movieId=3`"
      ]
    },
    {
      "cell_type": "code",
      "execution_count": null,
      "metadata": {
        "id": "PbFcBj1PpfEV",
        "colab": {
          "base_uri": "https://localhost:8080/"
        },
        "outputId": "7b05bd04-8cfc-4086-ec8a-59006c380518"
      },
      "outputs": [
        {
          "output_type": "stream",
          "name": "stdout",
          "text": [
            "user: 4          item: 3          r_ui = None   est = 3.20   {'actual_k': 40, 'was_impossible': False}\n"
          ]
        },
        {
          "output_type": "execute_result",
          "data": {
            "text/plain": [
              "Prediction(uid=4, iid=3, r_ui=None, est=3.202703552548654, details={'actual_k': 40, 'was_impossible': False})"
            ]
          },
          "metadata": {},
          "execution_count": 32
        }
      ],
      "source": [
        "# Remove _______ and complete the code\n",
        "algo_knn_user.predict(4, 3, verbose=True)"
      ]
    },
    {
      "cell_type": "markdown",
      "metadata": {
        "id": "cm2xqtcQnVNE"
      },
      "source": [
        "**Write your Answer here:As we can see, the estimated rating for this user-movie pair is 3.20 based on this similarity based baseline model.**"
      ]
    },
    {
      "cell_type": "markdown",
      "metadata": {
        "id": "ejjof6csnVNF"
      },
      "source": [
        "### **Improving user-user similarity based recommendation system by tuning its hyper-parameters**"
      ]
    },
    {
      "cell_type": "markdown",
      "metadata": {
        "id": "x_kxe-_JnVNF"
      },
      "source": [
        "Below we will be tuning hyper-parmeters for the `KNNBasic` algorithms. Let's try to understand different hyperparameters of KNNBasic algorithm - "
      ]
    },
    {
      "cell_type": "markdown",
      "metadata": {
        "id": "p2j4VvfQnVNF"
      },
      "source": [
        "- **k** (int) – The (max) number of neighbors to take into account for aggregation (see this note). Default is 40.\n",
        "- **min_k** (int) – The minimum number of neighbors to take into account for aggregation. If there are not enough neighbors, the prediction is set to the global mean of all ratings. Default is 1.\n",
        "- **sim_options** (dict) – A dictionary of options for the similarity measure. And there are four similarity measures available in surprise - \n",
        "    - cosine\n",
        "    - msd (default)\n",
        "    - pearson\n",
        "    - pearson baseline\n",
        "    \n",
        "For more details please refer the official documentation https://surprise.readthedocs.io/en/stable/knn_inspired.html"
      ]
    },
    {
      "cell_type": "markdown",
      "metadata": {
        "id": "lTLnYn_JwIBx"
      },
      "source": [
        "### **Q 3.3 Perform hyperparameter tuning for the baseline user based collaborative filtering recommendation system and find the RMSE for tuned user based collaborative filtering recommendation system? (3 Marks)**"
      ]
    },
    {
      "cell_type": "code",
      "execution_count": null,
      "metadata": {
        "id": "KpGhU15gpfHg",
        "colab": {
          "base_uri": "https://localhost:8080/"
        },
        "outputId": "caa1329e-0910-4575-8bda-8358ccd64685"
      },
      "outputs": [
        {
          "output_type": "stream",
          "name": "stdout",
          "text": [
            "0.9643868394448952\n",
            "{'k': 20, 'min_k': 3, 'sim_options': {'name': 'msd', 'user_based': True}}\n"
          ]
        }
      ],
      "source": [
        "# Remove _______ and complete the code\n",
        "\n",
        "# Setting up parameter grid to tune the hyperparameters\n",
        "param_grid = {'k': [20, 30, 40], 'min_k': [3, 6, 9],\n",
        "              'sim_options': {'name': ['msd', 'cosine'],\n",
        "                              'user_based': [True]}\n",
        "              }\n",
        "# Performing 3-fold cross validation to tune the hyperparameters\n",
        "grid_obj = GridSearchCV(KNNBasic, param_grid, measures=['rmse', 'mae'], cv=3, n_jobs=-1)\n",
        "\n",
        "# Fitting the data\n",
        "grid_obj.fit(data)\n",
        "\n",
        "# Best RMSE score\n",
        "print(grid_obj.best_score['rmse'])\n",
        "\n",
        "# Combination of parameters that gave the best RMSE score\n",
        "print(grid_obj.best_params['rmse'])"
      ]
    },
    {
      "cell_type": "markdown",
      "metadata": {
        "id": "L2fHNvu7nVNF"
      },
      "source": [
        "Once the grid search is **complete**, we can get the **optimal values for each of those hyperparameters** as shown above."
      ]
    },
    {
      "cell_type": "markdown",
      "metadata": {
        "id": "h_K6yd6XnVNF"
      },
      "source": [
        "Below we are analysing evaluation metrics - RMSE and MAE at each and every split to analyze the impact of each value of hyperparameters"
      ]
    },
    {
      "cell_type": "code",
      "execution_count": null,
      "metadata": {
        "id": "TzJxk_Z4q1A8",
        "colab": {
          "base_uri": "https://localhost:8080/",
          "height": 531
        },
        "outputId": "e1494e33-3fa5-43e6-eaeb-c570df41e07d"
      },
      "outputs": [
        {
          "output_type": "execute_result",
          "data": {
            "text/plain": [
              "   split0_test_rmse  split1_test_rmse  split2_test_rmse  mean_test_rmse  \\\n",
              "0          0.960419          0.958498          0.974244        0.964387   \n",
              "1          0.989377          0.988906          1.001937        0.993407   \n",
              "2          0.964042          0.964393          0.978109        0.968848   \n",
              "3          0.991704          0.993264          1.004485        0.996484   \n",
              "4          0.970559          0.969787          0.983982        0.974776   \n",
              "\n",
              "   std_test_rmse  rank_test_rmse  split0_test_mae  split1_test_mae  \\\n",
              "0       0.007014               1         0.737480         0.736208   \n",
              "1       0.006035              12         0.763861         0.763513   \n",
              "2       0.006550               3         0.740384         0.740008   \n",
              "3       0.005693              15         0.765636         0.766199   \n",
              "4       0.006517               7         0.745741         0.744943   \n",
              "\n",
              "   split2_test_mae  mean_test_mae  std_test_mae  rank_test_mae  mean_fit_time  \\\n",
              "0         0.750349       0.741346      0.006388              1       0.148298   \n",
              "1         0.776065       0.767813      0.005837             12       0.857381   \n",
              "2         0.754033       0.744808      0.006524              3       0.159512   \n",
              "3         0.778668       0.770168      0.006015             15       0.747542   \n",
              "4         0.759468       0.750051      0.006667              6       0.186107   \n",
              "\n",
              "   std_fit_time  mean_test_time  std_test_time  \\\n",
              "0      0.042210        3.759835       0.760988   \n",
              "1      0.242034        3.225763       0.119148   \n",
              "2      0.011460        3.159618       0.095218   \n",
              "3      0.103505        3.209306       0.158195   \n",
              "4      0.039397        3.338259       0.209850   \n",
              "\n",
              "                                              params  param_k  param_min_k  \\\n",
              "0  {'k': 20, 'min_k': 3, 'sim_options': {'name': ...       20            3   \n",
              "1  {'k': 20, 'min_k': 3, 'sim_options': {'name': ...       20            3   \n",
              "2  {'k': 20, 'min_k': 6, 'sim_options': {'name': ...       20            6   \n",
              "3  {'k': 20, 'min_k': 6, 'sim_options': {'name': ...       20            6   \n",
              "4  {'k': 20, 'min_k': 9, 'sim_options': {'name': ...       20            9   \n",
              "\n",
              "                        param_sim_options  \n",
              "0     {'name': 'msd', 'user_based': True}  \n",
              "1  {'name': 'cosine', 'user_based': True}  \n",
              "2     {'name': 'msd', 'user_based': True}  \n",
              "3  {'name': 'cosine', 'user_based': True}  \n",
              "4     {'name': 'msd', 'user_based': True}  "
            ],
            "text/html": [
              "\n",
              "  <div id=\"df-02bb5987-17a7-4a60-bfa6-cf6a5c9fbe80\">\n",
              "    <div class=\"colab-df-container\">\n",
              "      <div>\n",
              "<style scoped>\n",
              "    .dataframe tbody tr th:only-of-type {\n",
              "        vertical-align: middle;\n",
              "    }\n",
              "\n",
              "    .dataframe tbody tr th {\n",
              "        vertical-align: top;\n",
              "    }\n",
              "\n",
              "    .dataframe thead th {\n",
              "        text-align: right;\n",
              "    }\n",
              "</style>\n",
              "<table border=\"1\" class=\"dataframe\">\n",
              "  <thead>\n",
              "    <tr style=\"text-align: right;\">\n",
              "      <th></th>\n",
              "      <th>split0_test_rmse</th>\n",
              "      <th>split1_test_rmse</th>\n",
              "      <th>split2_test_rmse</th>\n",
              "      <th>mean_test_rmse</th>\n",
              "      <th>std_test_rmse</th>\n",
              "      <th>rank_test_rmse</th>\n",
              "      <th>split0_test_mae</th>\n",
              "      <th>split1_test_mae</th>\n",
              "      <th>split2_test_mae</th>\n",
              "      <th>mean_test_mae</th>\n",
              "      <th>std_test_mae</th>\n",
              "      <th>rank_test_mae</th>\n",
              "      <th>mean_fit_time</th>\n",
              "      <th>std_fit_time</th>\n",
              "      <th>mean_test_time</th>\n",
              "      <th>std_test_time</th>\n",
              "      <th>params</th>\n",
              "      <th>param_k</th>\n",
              "      <th>param_min_k</th>\n",
              "      <th>param_sim_options</th>\n",
              "    </tr>\n",
              "  </thead>\n",
              "  <tbody>\n",
              "    <tr>\n",
              "      <th>0</th>\n",
              "      <td>0.960419</td>\n",
              "      <td>0.958498</td>\n",
              "      <td>0.974244</td>\n",
              "      <td>0.964387</td>\n",
              "      <td>0.007014</td>\n",
              "      <td>1</td>\n",
              "      <td>0.737480</td>\n",
              "      <td>0.736208</td>\n",
              "      <td>0.750349</td>\n",
              "      <td>0.741346</td>\n",
              "      <td>0.006388</td>\n",
              "      <td>1</td>\n",
              "      <td>0.148298</td>\n",
              "      <td>0.042210</td>\n",
              "      <td>3.759835</td>\n",
              "      <td>0.760988</td>\n",
              "      <td>{'k': 20, 'min_k': 3, 'sim_options': {'name': ...</td>\n",
              "      <td>20</td>\n",
              "      <td>3</td>\n",
              "      <td>{'name': 'msd', 'user_based': True}</td>\n",
              "    </tr>\n",
              "    <tr>\n",
              "      <th>1</th>\n",
              "      <td>0.989377</td>\n",
              "      <td>0.988906</td>\n",
              "      <td>1.001937</td>\n",
              "      <td>0.993407</td>\n",
              "      <td>0.006035</td>\n",
              "      <td>12</td>\n",
              "      <td>0.763861</td>\n",
              "      <td>0.763513</td>\n",
              "      <td>0.776065</td>\n",
              "      <td>0.767813</td>\n",
              "      <td>0.005837</td>\n",
              "      <td>12</td>\n",
              "      <td>0.857381</td>\n",
              "      <td>0.242034</td>\n",
              "      <td>3.225763</td>\n",
              "      <td>0.119148</td>\n",
              "      <td>{'k': 20, 'min_k': 3, 'sim_options': {'name': ...</td>\n",
              "      <td>20</td>\n",
              "      <td>3</td>\n",
              "      <td>{'name': 'cosine', 'user_based': True}</td>\n",
              "    </tr>\n",
              "    <tr>\n",
              "      <th>2</th>\n",
              "      <td>0.964042</td>\n",
              "      <td>0.964393</td>\n",
              "      <td>0.978109</td>\n",
              "      <td>0.968848</td>\n",
              "      <td>0.006550</td>\n",
              "      <td>3</td>\n",
              "      <td>0.740384</td>\n",
              "      <td>0.740008</td>\n",
              "      <td>0.754033</td>\n",
              "      <td>0.744808</td>\n",
              "      <td>0.006524</td>\n",
              "      <td>3</td>\n",
              "      <td>0.159512</td>\n",
              "      <td>0.011460</td>\n",
              "      <td>3.159618</td>\n",
              "      <td>0.095218</td>\n",
              "      <td>{'k': 20, 'min_k': 6, 'sim_options': {'name': ...</td>\n",
              "      <td>20</td>\n",
              "      <td>6</td>\n",
              "      <td>{'name': 'msd', 'user_based': True}</td>\n",
              "    </tr>\n",
              "    <tr>\n",
              "      <th>3</th>\n",
              "      <td>0.991704</td>\n",
              "      <td>0.993264</td>\n",
              "      <td>1.004485</td>\n",
              "      <td>0.996484</td>\n",
              "      <td>0.005693</td>\n",
              "      <td>15</td>\n",
              "      <td>0.765636</td>\n",
              "      <td>0.766199</td>\n",
              "      <td>0.778668</td>\n",
              "      <td>0.770168</td>\n",
              "      <td>0.006015</td>\n",
              "      <td>15</td>\n",
              "      <td>0.747542</td>\n",
              "      <td>0.103505</td>\n",
              "      <td>3.209306</td>\n",
              "      <td>0.158195</td>\n",
              "      <td>{'k': 20, 'min_k': 6, 'sim_options': {'name': ...</td>\n",
              "      <td>20</td>\n",
              "      <td>6</td>\n",
              "      <td>{'name': 'cosine', 'user_based': True}</td>\n",
              "    </tr>\n",
              "    <tr>\n",
              "      <th>4</th>\n",
              "      <td>0.970559</td>\n",
              "      <td>0.969787</td>\n",
              "      <td>0.983982</td>\n",
              "      <td>0.974776</td>\n",
              "      <td>0.006517</td>\n",
              "      <td>7</td>\n",
              "      <td>0.745741</td>\n",
              "      <td>0.744943</td>\n",
              "      <td>0.759468</td>\n",
              "      <td>0.750051</td>\n",
              "      <td>0.006667</td>\n",
              "      <td>6</td>\n",
              "      <td>0.186107</td>\n",
              "      <td>0.039397</td>\n",
              "      <td>3.338259</td>\n",
              "      <td>0.209850</td>\n",
              "      <td>{'k': 20, 'min_k': 9, 'sim_options': {'name': ...</td>\n",
              "      <td>20</td>\n",
              "      <td>9</td>\n",
              "      <td>{'name': 'msd', 'user_based': True}</td>\n",
              "    </tr>\n",
              "  </tbody>\n",
              "</table>\n",
              "</div>\n",
              "      <button class=\"colab-df-convert\" onclick=\"convertToInteractive('df-02bb5987-17a7-4a60-bfa6-cf6a5c9fbe80')\"\n",
              "              title=\"Convert this dataframe to an interactive table.\"\n",
              "              style=\"display:none;\">\n",
              "        \n",
              "  <svg xmlns=\"http://www.w3.org/2000/svg\" height=\"24px\"viewBox=\"0 0 24 24\"\n",
              "       width=\"24px\">\n",
              "    <path d=\"M0 0h24v24H0V0z\" fill=\"none\"/>\n",
              "    <path d=\"M18.56 5.44l.94 2.06.94-2.06 2.06-.94-2.06-.94-.94-2.06-.94 2.06-2.06.94zm-11 1L8.5 8.5l.94-2.06 2.06-.94-2.06-.94L8.5 2.5l-.94 2.06-2.06.94zm10 10l.94 2.06.94-2.06 2.06-.94-2.06-.94-.94-2.06-.94 2.06-2.06.94z\"/><path d=\"M17.41 7.96l-1.37-1.37c-.4-.4-.92-.59-1.43-.59-.52 0-1.04.2-1.43.59L10.3 9.45l-7.72 7.72c-.78.78-.78 2.05 0 2.83L4 21.41c.39.39.9.59 1.41.59.51 0 1.02-.2 1.41-.59l7.78-7.78 2.81-2.81c.8-.78.8-2.07 0-2.86zM5.41 20L4 18.59l7.72-7.72 1.47 1.35L5.41 20z\"/>\n",
              "  </svg>\n",
              "      </button>\n",
              "      \n",
              "  <style>\n",
              "    .colab-df-container {\n",
              "      display:flex;\n",
              "      flex-wrap:wrap;\n",
              "      gap: 12px;\n",
              "    }\n",
              "\n",
              "    .colab-df-convert {\n",
              "      background-color: #E8F0FE;\n",
              "      border: none;\n",
              "      border-radius: 50%;\n",
              "      cursor: pointer;\n",
              "      display: none;\n",
              "      fill: #1967D2;\n",
              "      height: 32px;\n",
              "      padding: 0 0 0 0;\n",
              "      width: 32px;\n",
              "    }\n",
              "\n",
              "    .colab-df-convert:hover {\n",
              "      background-color: #E2EBFA;\n",
              "      box-shadow: 0px 1px 2px rgba(60, 64, 67, 0.3), 0px 1px 3px 1px rgba(60, 64, 67, 0.15);\n",
              "      fill: #174EA6;\n",
              "    }\n",
              "\n",
              "    [theme=dark] .colab-df-convert {\n",
              "      background-color: #3B4455;\n",
              "      fill: #D2E3FC;\n",
              "    }\n",
              "\n",
              "    [theme=dark] .colab-df-convert:hover {\n",
              "      background-color: #434B5C;\n",
              "      box-shadow: 0px 1px 3px 1px rgba(0, 0, 0, 0.15);\n",
              "      filter: drop-shadow(0px 1px 2px rgba(0, 0, 0, 0.3));\n",
              "      fill: #FFFFFF;\n",
              "    }\n",
              "  </style>\n",
              "\n",
              "      <script>\n",
              "        const buttonEl =\n",
              "          document.querySelector('#df-02bb5987-17a7-4a60-bfa6-cf6a5c9fbe80 button.colab-df-convert');\n",
              "        buttonEl.style.display =\n",
              "          google.colab.kernel.accessAllowed ? 'block' : 'none';\n",
              "\n",
              "        async function convertToInteractive(key) {\n",
              "          const element = document.querySelector('#df-02bb5987-17a7-4a60-bfa6-cf6a5c9fbe80');\n",
              "          const dataTable =\n",
              "            await google.colab.kernel.invokeFunction('convertToInteractive',\n",
              "                                                     [key], {});\n",
              "          if (!dataTable) return;\n",
              "\n",
              "          const docLinkHtml = 'Like what you see? Visit the ' +\n",
              "            '<a target=\"_blank\" href=https://colab.research.google.com/notebooks/data_table.ipynb>data table notebook</a>'\n",
              "            + ' to learn more about interactive tables.';\n",
              "          element.innerHTML = '';\n",
              "          dataTable['output_type'] = 'display_data';\n",
              "          await google.colab.output.renderOutput(dataTable, element);\n",
              "          const docLink = document.createElement('div');\n",
              "          docLink.innerHTML = docLinkHtml;\n",
              "          element.appendChild(docLink);\n",
              "        }\n",
              "      </script>\n",
              "    </div>\n",
              "  </div>\n",
              "  "
            ]
          },
          "metadata": {},
          "execution_count": 34
        }
      ],
      "source": [
        "results_df = pd.DataFrame.from_dict(grid_obj.cv_results)\n",
        "results_df.head()"
      ]
    },
    {
      "cell_type": "markdown",
      "metadata": {
        "id": "NHWgxu_YnVNG"
      },
      "source": [
        "Now, let's build the **final model by using tuned values of the hyperparameters**, which we received by using **grid search cross-validation**.\n",
        "\n"
      ]
    },
    {
      "cell_type": "code",
      "execution_count": null,
      "metadata": {
        "id": "PujRJA8X_JEJ",
        "colab": {
          "base_uri": "https://localhost:8080/"
        },
        "outputId": "078a087e-1f07-4499-e019-08984de24821"
      },
      "outputs": [
        {
          "output_type": "stream",
          "name": "stdout",
          "text": [
            "RMSE: 0.9908\n"
          ]
        },
        {
          "output_type": "execute_result",
          "data": {
            "text/plain": [
              "0.9907563598665419"
            ]
          },
          "metadata": {},
          "execution_count": 35
        }
      ],
      "source": [
        "# Remove _______ and complete the code\n",
        "\n",
        "# Using the optimal similarity measure for user-user based collaborative filtering\n",
        "sim_options = {'name': 'cosine',\n",
        "               'user_based': True}\n",
        "# Creating an instance of KNNBasic with optimal hyperparameter values\n",
        "similarity_algo_optimized_user = KNNBasic(sim_options=sim_options, k=20, min_k=3,verbose=False)\n",
        "\n",
        "# Training the algorithm on the trainset\n",
        "similarity_algo_optimized_user.fit(trainset)\n",
        "\n",
        "# Predicting ratings for the testset\n",
        "predictions = similarity_algo_optimized_user.test(testset)\n",
        "\n",
        "# Computing RMSE on testset\n",
        "accuracy.rmse(predictions)"
      ]
    },
    {
      "cell_type": "markdown",
      "metadata": {
        "id": "YA37vQ6qnVNG"
      },
      "source": [
        "**Write your Answer here: We can see from above that  after tunning hyperparameters, RMSE for testset has increased from 0.9644 to 0.9908. We can say that we have not been able to improve the model after hyperparameter tunning.**"
      ]
    },
    {
      "cell_type": "markdown",
      "metadata": {
        "id": "3gZQybgVwIB1"
      },
      "source": [
        "### **Q 3.4 What is the Predicted rating for an user with userId =4 and for movieId= 10 and movieId=3 using tuned user based collaborative filtering? (1 Mark)**"
      ]
    },
    {
      "cell_type": "markdown",
      "metadata": {
        "id": "YhcAXK0CnVNG"
      },
      "source": [
        "Let's us now predict rating for an user with `userId=4` and for `movieId=10` with the optimized model"
      ]
    },
    {
      "cell_type": "code",
      "execution_count": null,
      "metadata": {
        "id": "FgV63lHiq1TV",
        "colab": {
          "base_uri": "https://localhost:8080/"
        },
        "outputId": "8c1c7801-faa5-4e4d-c4b4-97f9f8bbbd55"
      },
      "outputs": [
        {
          "output_type": "stream",
          "name": "stdout",
          "text": [
            "user: 4          item: 0          r_ui = 4.00   est = 3.55   {'was_impossible': True, 'reason': 'User and/or item is unknown.'}\n"
          ]
        },
        {
          "output_type": "execute_result",
          "data": {
            "text/plain": [
              "Prediction(uid=4, iid=0, r_ui=4, est=3.5459045285801785, details={'was_impossible': True, 'reason': 'User and/or item is unknown.'})"
            ]
          },
          "metadata": {},
          "execution_count": 36
        }
      ],
      "source": [
        "# Remove _______ and complete the code\n",
        "similarity_algo_optimized_user.predict(4,0, r_ui=4, verbose=True)"
      ]
    },
    {
      "cell_type": "markdown",
      "metadata": {
        "id": "AMBeqeUtnVNG"
      },
      "source": [
        "**Write your Answer here:If we compare the above predicted rating, we can see the baseline model predicted rating as 3.55 and the optimized model predicted the rating as 4.55.**"
      ]
    },
    {
      "cell_type": "markdown",
      "metadata": {
        "id": "P1JLqz6mnVNH"
      },
      "source": [
        "Below we are predicting rating for the same `userId=4` but for a movie which this user has not interacted before i.e. `movieId=3`, by using the optimized model as shown below - "
      ]
    },
    {
      "cell_type": "code",
      "execution_count": null,
      "metadata": {
        "id": "HXO2Ztjhq1bN",
        "colab": {
          "base_uri": "https://localhost:8080/"
        },
        "outputId": "0921db09-0f88-423a-9ca7-11307e5d988e"
      },
      "outputs": [
        {
          "output_type": "stream",
          "name": "stdout",
          "text": [
            "user: 4          item: 3          r_ui = None   est = 3.25   {'actual_k': 20, 'was_impossible': False}\n"
          ]
        },
        {
          "output_type": "execute_result",
          "data": {
            "text/plain": [
              "Prediction(uid=4, iid=3, r_ui=None, est=3.2547587330037486, details={'actual_k': 20, 'was_impossible': False})"
            ]
          },
          "metadata": {},
          "execution_count": 37
        }
      ],
      "source": [
        "# Remove _______ and complete the code\n",
        "similarity_algo_optimized_user.predict(4,3, verbose=True)"
      ]
    },
    {
      "cell_type": "markdown",
      "metadata": {
        "id": "PN_tYvepnVNH"
      },
      "source": [
        "**Write your Answer here:If we compare the above predicted rating, we can see the baseline model predicted rating as 4 and the optimized model predicted the rating as 3.25.**"
      ]
    },
    {
      "cell_type": "code",
      "source": [
        ""
      ],
      "metadata": {
        "id": "qhT2xTqBfkpf"
      },
      "execution_count": null,
      "outputs": []
    },
    {
      "cell_type": "markdown",
      "metadata": {
        "id": "o2QsfqhanVNH"
      },
      "source": [
        "### **Identifying similar users to a given user (nearest neighbors)**\n",
        "\n",
        "We can also find out the similar users to a given user or its nearest neighbors based on this KNNBasic algorithm. Below we are finding 5 most similar user to the `userId=4` based on the `msd` distance metric"
      ]
    },
    {
      "cell_type": "code",
      "execution_count": null,
      "metadata": {
        "id": "evkmTb6P5HYO",
        "colab": {
          "base_uri": "https://localhost:8080/"
        },
        "outputId": "1e4ab4b9-e415-4567-dab6-327b1f09381d"
      },
      "outputs": [
        {
          "output_type": "execute_result",
          "data": {
            "text/plain": [
              "[357, 220, 590, 491, 647]"
            ]
          },
          "metadata": {},
          "execution_count": 38
        }
      ],
      "source": [
        "similarity_algo_optimized_user.get_neighbors(4, k=5)"
      ]
    },
    {
      "cell_type": "markdown",
      "metadata": {
        "id": "Z0NsrX_anVNH"
      },
      "source": [
        "### **Implementing the recommendation algorithm based on optimized KNNBasic model**"
      ]
    },
    {
      "cell_type": "markdown",
      "metadata": {
        "id": "U3ESobDynVNI"
      },
      "source": [
        "Below we will be implementing a function where the input parameters are - \n",
        "\n",
        "- data: a rating dataset\n",
        "- user_id: an user id against which we want the recommendations\n",
        "- top_n: the number of movies we want to recommend\n",
        "- algo: the algorithm we want to use to predict the ratings"
      ]
    },
    {
      "cell_type": "code",
      "execution_count": null,
      "metadata": {
        "id": "vW9V1Tk65HlY"
      },
      "outputs": [],
      "source": [
        "def get_recommendations(data, user_id, top_n, algo):\n",
        "    \n",
        "    # Creating an empty list to store the recommended movie ids\n",
        "    recommendations = []\n",
        "    \n",
        "    # Creating an user item interactions matrix \n",
        "    user_item_interactions_matrix = data.pivot(index='userId', columns='movieId', values='rating')\n",
        "    \n",
        "    # Extracting those movie ids which the user_id has not interacted yet\n",
        "    non_interacted_movies = user_item_interactions_matrix.loc[user_id][user_item_interactions_matrix.loc[user_id].isnull()].index.tolist()\n",
        "    \n",
        "    # Looping through each of the movie id which user_id has not interacted yet\n",
        "    for item_id in non_interacted_movies:\n",
        "        \n",
        "        # Predicting the ratings for those non interacted movie ids by this user\n",
        "        est = algo.predict(user_id, item_id).est\n",
        "        \n",
        "        # Appending the predicted ratings\n",
        "        recommendations.append((item_id, est))\n",
        "\n",
        "    # Sorting the predicted ratings in descending order\n",
        "    recommendations.sort(key=lambda x: x[1], reverse=True)\n",
        "\n",
        "    return recommendations[:top_n] # returing top n highest predicted rating movies for this user"
      ]
    },
    {
      "cell_type": "markdown",
      "metadata": {
        "id": "Oj_S7kh4nVNI"
      },
      "source": [
        "#### **Predicted top 5 movies for userId=4 with similarity based recommendation system**"
      ]
    },
    {
      "cell_type": "code",
      "execution_count": null,
      "metadata": {
        "id": "qWbR85mI5Hrk"
      },
      "outputs": [],
      "source": [
        "#remove _______ and complete the code\n",
        "recommendations = get_recommendations(rating,4,5,similarity_algo_optimized_user)"
      ]
    },
    {
      "cell_type": "markdown",
      "metadata": {
        "id": "33GchLEiwICA"
      },
      "source": [
        "### **Q 3.5 Predict the top 5 movies for userId=4 with similarity based recommendation system (1 Mark)**"
      ]
    },
    {
      "cell_type": "code",
      "execution_count": null,
      "metadata": {
        "id": "b5WfIX0Z6_q2",
        "colab": {
          "base_uri": "https://localhost:8080/"
        },
        "outputId": "a787a2ad-8226-4214-b41f-99f4b2aea379"
      },
      "outputs": [
        {
          "output_type": "execute_result",
          "data": {
            "text/plain": [
              "[(309, 5),\n",
              " (3038, 4.999999999999999),\n",
              " (6273, 4.839859025263867),\n",
              " (98491, 4.832340578646058),\n",
              " (116, 4.753206589295344)]"
            ]
          },
          "metadata": {},
          "execution_count": 41
        }
      ],
      "source": [
        "recommendations"
      ]
    },
    {
      "cell_type": "markdown",
      "metadata": {
        "id": "pqm4J6aQwICB"
      },
      "source": [
        "## **Model 3: Item based Collaborative Filtering Recommendation System (7 Marks)**"
      ]
    },
    {
      "cell_type": "code",
      "execution_count": null,
      "metadata": {
        "id": "fa8W64l5wICB",
        "colab": {
          "base_uri": "https://localhost:8080/"
        },
        "outputId": "373dd920-e03b-4317-f1a6-e794ed765760"
      },
      "outputs": [
        {
          "output_type": "stream",
          "name": "stdout",
          "text": [
            "RMSE: 1.0032\n"
          ]
        },
        {
          "output_type": "execute_result",
          "data": {
            "text/plain": [
              "1.003221450633729"
            ]
          },
          "metadata": {},
          "execution_count": 42
        }
      ],
      "source": [
        "# Remove _______ and complete the code\n",
        "\n",
        "# Definfing similarity measure\n",
        "sim_options = {'name': 'cosine',\n",
        "               'user_based': False}\n",
        "# Defining Nearest neighbour algorithm\n",
        "algo_knn_item = KNNBasic(sim_options=sim_options,verbose=False)\n",
        "\n",
        "# Train the algorithm on the trainset or fitting the model on train dataset \n",
        "algo_knn_item.fit(trainset)\n",
        "\n",
        "# Predict ratings for the testset\n",
        "predictions = algo_knn_item.test(testset)\n",
        "\n",
        "# Then compute RMSE\n",
        "accuracy.rmse(predictions)"
      ]
    },
    {
      "cell_type": "markdown",
      "metadata": {
        "id": "oW6HXjoVwICC"
      },
      "source": [
        "### **Q 4.1 What is the RMSE for baseline item based collaborative filtering recommendation system ?(1 Mark)**"
      ]
    },
    {
      "cell_type": "markdown",
      "metadata": {
        "id": "dsagkpFDwICD"
      },
      "source": [
        "**Write your Answer here:As we can see, these baseline model has RMSE=1.00 on test set, we will try to improve this number later by using GridSearchCV tuning different hyperparameters of this algorithm.**\n",
        "\n"
      ]
    },
    {
      "cell_type": "markdown",
      "source": [
        "Let's us now predict rating for an user with `userId=4` and for `movieId=10`"
      ],
      "metadata": {
        "id": "uXRReHXt2UD8"
      }
    },
    {
      "cell_type": "markdown",
      "metadata": {
        "id": "egyW6VMYwICD"
      },
      "source": [
        "### **Q 4.2 What is the Predicted  rating for an user with userId =4 and for movieId= 10 and movieId=3? (1 Mark)**"
      ]
    },
    {
      "cell_type": "code",
      "execution_count": null,
      "metadata": {
        "id": "RmzxmaDbwICE",
        "scrolled": true,
        "colab": {
          "base_uri": "https://localhost:8080/"
        },
        "outputId": "dd9b0584-d64b-4d28-f3d6-05dabc685b0a"
      },
      "outputs": [
        {
          "output_type": "stream",
          "name": "stdout",
          "text": [
            "user: 4          item: 10         r_ui = 4.00   est = 4.37   {'actual_k': 40, 'was_impossible': False}\n"
          ]
        },
        {
          "output_type": "execute_result",
          "data": {
            "text/plain": [
              "Prediction(uid=4, iid=10, r_ui=4, est=4.373794871885004, details={'actual_k': 40, 'was_impossible': False})"
            ]
          },
          "metadata": {},
          "execution_count": 43
        }
      ],
      "source": [
        "# Remove _______ and complete the code\n",
        "algo_knn_item.predict(4,10, r_ui=4, verbose=True)"
      ]
    },
    {
      "cell_type": "markdown",
      "metadata": {
        "id": "fyPeJdK6wICF"
      },
      "source": [
        "**Write your Answer here:__________**\n"
      ]
    },
    {
      "cell_type": "markdown",
      "metadata": {
        "id": "CTSx7Wl5wICG"
      },
      "source": [
        "Let's predict  the rating for the same `userId=4` but for a movie which this user has not interacted before i.e. `movieId=3`"
      ]
    },
    {
      "cell_type": "code",
      "execution_count": null,
      "metadata": {
        "id": "-l8G1XG5wICG",
        "colab": {
          "base_uri": "https://localhost:8080/"
        },
        "outputId": "1a50a18e-a55c-4796-f474-d5400199f093"
      },
      "outputs": [
        {
          "output_type": "stream",
          "name": "stdout",
          "text": [
            "user: 4          item: 3          r_ui = None   est = 4.07   {'actual_k': 40, 'was_impossible': False}\n"
          ]
        },
        {
          "output_type": "execute_result",
          "data": {
            "text/plain": [
              "Prediction(uid=4, iid=3, r_ui=None, est=4.071601862880049, details={'actual_k': 40, 'was_impossible': False})"
            ]
          },
          "metadata": {},
          "execution_count": 44
        }
      ],
      "source": [
        "# Remove _______ and complete the code\n",
        "algo_knn_item.predict(4,3, verbose=True)"
      ]
    },
    {
      "cell_type": "markdown",
      "metadata": {
        "id": "WKqI9IyhwICH"
      },
      "source": [
        "**Write your Answer here:As we can see, the estimated rating for this user-movie pair is 4.07 based on this similarity based baseline model.**\n"
      ]
    },
    {
      "cell_type": "markdown",
      "metadata": {
        "id": "utHBZ67JwICI"
      },
      "source": [
        "### **Q 4.3 Perform hyperparameter tuning for the baseline item based collaborative filtering recommendation system and find the RMSE for tuned item based collaborative filtering recommendation system? (3 Marks)**"
      ]
    },
    {
      "cell_type": "code",
      "execution_count": null,
      "metadata": {
        "id": "0ZmIvW--wICJ",
        "colab": {
          "base_uri": "https://localhost:8080/"
        },
        "outputId": "2b16225b-83e8-4448-ec71-b5c052308b99"
      },
      "outputs": [
        {
          "output_type": "stream",
          "name": "stdout",
          "text": [
            "0.9402163468610687\n",
            "{'k': 40, 'min_k': 3, 'sim_options': {'name': 'msd', 'user_based': False}}\n"
          ]
        }
      ],
      "source": [
        "# Remove _______ and complete the code\n",
        "\n",
        "# Setting up parameter grid to tune the hyperparameters\n",
        "param_grid = {'k': [20, 30,40], 'min_k': [3,6,9],\n",
        "              'sim_options': {'name': ['msd', 'cosine'],\n",
        "                              'user_based': [False]}\n",
        "              }\n",
        "# Performing 3-fold cross validation to tune the hyperparameters\n",
        "grid_obj = GridSearchCV(KNNBasic, param_grid, measures=['rmse', 'mae'], cv=3, n_jobs=-1)\n",
        "\n",
        "# Fitting the data\n",
        "grid_obj.fit(data)\n",
        "\n",
        "# Best RMSE score\n",
        "print(grid_obj.best_score['rmse'])\n",
        "\n",
        "# Combination of parameters that gave the best RMSE score\n",
        "print(grid_obj.best_params['rmse'])"
      ]
    },
    {
      "cell_type": "markdown",
      "metadata": {
        "id": "_uAej6IMwICK"
      },
      "source": [
        "Once the **grid search** is complete, we can get the **optimal values for each of those hyperparameters as shown above**"
      ]
    },
    {
      "cell_type": "markdown",
      "metadata": {
        "id": "2W3LQWA9wICK"
      },
      "source": [
        "Below we are analysing evaluation metrics - RMSE and MAE at each and every split to analyze the impact of each value of hyperparameters"
      ]
    },
    {
      "cell_type": "code",
      "execution_count": null,
      "metadata": {
        "id": "ITKMae3LwICL",
        "scrolled": false,
        "colab": {
          "base_uri": "https://localhost:8080/",
          "height": 531
        },
        "outputId": "dc430445-d892-4bba-8ce7-7c356fe08985"
      },
      "outputs": [
        {
          "output_type": "execute_result",
          "data": {
            "text/plain": [
              "   split0_test_rmse  split1_test_rmse  split2_test_rmse  mean_test_rmse  \\\n",
              "0          0.946072          0.949572          0.957610        0.951085   \n",
              "1          1.006571          1.012549          1.018183        1.012434   \n",
              "2          0.946811          0.949499          0.957541        0.951283   \n",
              "3          1.007465          1.012634          1.018121        1.012740   \n",
              "4          0.946887          0.950760          0.958006        0.951885   \n",
              "\n",
              "   std_test_rmse  rank_test_rmse  split0_test_mae  split1_test_mae  \\\n",
              "0       0.004830               7         0.730795         0.733248   \n",
              "1       0.004741              16         0.786794         0.789478   \n",
              "2       0.004558               8         0.731344         0.733333   \n",
              "3       0.004351              17         0.787452         0.789583   \n",
              "4       0.004608               9         0.731561         0.734231   \n",
              "\n",
              "   split2_test_mae  mean_test_mae  std_test_mae  rank_test_mae  mean_fit_time  \\\n",
              "0         0.737781       0.733941      0.002894              7       7.022689   \n",
              "1         0.792560       0.789611      0.002356             16      20.128340   \n",
              "2         0.737888       0.734189      0.002739              8       6.888046   \n",
              "3         0.792685       0.789907      0.002149             17      18.728901   \n",
              "4         0.738243       0.734678      0.002746              9       6.127748   \n",
              "\n",
              "   std_fit_time  mean_test_time  std_test_time  \\\n",
              "0      0.604857       11.094604       0.149122   \n",
              "1      0.293331       10.456803       0.085540   \n",
              "2      0.337847       11.658863       0.523019   \n",
              "3      0.505808       12.111295       1.322294   \n",
              "4      0.153382       12.478287       0.635415   \n",
              "\n",
              "                                              params  param_k  param_min_k  \\\n",
              "0  {'k': 20, 'min_k': 3, 'sim_options': {'name': ...       20            3   \n",
              "1  {'k': 20, 'min_k': 3, 'sim_options': {'name': ...       20            3   \n",
              "2  {'k': 20, 'min_k': 6, 'sim_options': {'name': ...       20            6   \n",
              "3  {'k': 20, 'min_k': 6, 'sim_options': {'name': ...       20            6   \n",
              "4  {'k': 20, 'min_k': 9, 'sim_options': {'name': ...       20            9   \n",
              "\n",
              "                         param_sim_options  \n",
              "0     {'name': 'msd', 'user_based': False}  \n",
              "1  {'name': 'cosine', 'user_based': False}  \n",
              "2     {'name': 'msd', 'user_based': False}  \n",
              "3  {'name': 'cosine', 'user_based': False}  \n",
              "4     {'name': 'msd', 'user_based': False}  "
            ],
            "text/html": [
              "\n",
              "  <div id=\"df-7a3cdadf-66d6-4dad-a79a-aad1be3ee568\">\n",
              "    <div class=\"colab-df-container\">\n",
              "      <div>\n",
              "<style scoped>\n",
              "    .dataframe tbody tr th:only-of-type {\n",
              "        vertical-align: middle;\n",
              "    }\n",
              "\n",
              "    .dataframe tbody tr th {\n",
              "        vertical-align: top;\n",
              "    }\n",
              "\n",
              "    .dataframe thead th {\n",
              "        text-align: right;\n",
              "    }\n",
              "</style>\n",
              "<table border=\"1\" class=\"dataframe\">\n",
              "  <thead>\n",
              "    <tr style=\"text-align: right;\">\n",
              "      <th></th>\n",
              "      <th>split0_test_rmse</th>\n",
              "      <th>split1_test_rmse</th>\n",
              "      <th>split2_test_rmse</th>\n",
              "      <th>mean_test_rmse</th>\n",
              "      <th>std_test_rmse</th>\n",
              "      <th>rank_test_rmse</th>\n",
              "      <th>split0_test_mae</th>\n",
              "      <th>split1_test_mae</th>\n",
              "      <th>split2_test_mae</th>\n",
              "      <th>mean_test_mae</th>\n",
              "      <th>std_test_mae</th>\n",
              "      <th>rank_test_mae</th>\n",
              "      <th>mean_fit_time</th>\n",
              "      <th>std_fit_time</th>\n",
              "      <th>mean_test_time</th>\n",
              "      <th>std_test_time</th>\n",
              "      <th>params</th>\n",
              "      <th>param_k</th>\n",
              "      <th>param_min_k</th>\n",
              "      <th>param_sim_options</th>\n",
              "    </tr>\n",
              "  </thead>\n",
              "  <tbody>\n",
              "    <tr>\n",
              "      <th>0</th>\n",
              "      <td>0.946072</td>\n",
              "      <td>0.949572</td>\n",
              "      <td>0.957610</td>\n",
              "      <td>0.951085</td>\n",
              "      <td>0.004830</td>\n",
              "      <td>7</td>\n",
              "      <td>0.730795</td>\n",
              "      <td>0.733248</td>\n",
              "      <td>0.737781</td>\n",
              "      <td>0.733941</td>\n",
              "      <td>0.002894</td>\n",
              "      <td>7</td>\n",
              "      <td>7.022689</td>\n",
              "      <td>0.604857</td>\n",
              "      <td>11.094604</td>\n",
              "      <td>0.149122</td>\n",
              "      <td>{'k': 20, 'min_k': 3, 'sim_options': {'name': ...</td>\n",
              "      <td>20</td>\n",
              "      <td>3</td>\n",
              "      <td>{'name': 'msd', 'user_based': False}</td>\n",
              "    </tr>\n",
              "    <tr>\n",
              "      <th>1</th>\n",
              "      <td>1.006571</td>\n",
              "      <td>1.012549</td>\n",
              "      <td>1.018183</td>\n",
              "      <td>1.012434</td>\n",
              "      <td>0.004741</td>\n",
              "      <td>16</td>\n",
              "      <td>0.786794</td>\n",
              "      <td>0.789478</td>\n",
              "      <td>0.792560</td>\n",
              "      <td>0.789611</td>\n",
              "      <td>0.002356</td>\n",
              "      <td>16</td>\n",
              "      <td>20.128340</td>\n",
              "      <td>0.293331</td>\n",
              "      <td>10.456803</td>\n",
              "      <td>0.085540</td>\n",
              "      <td>{'k': 20, 'min_k': 3, 'sim_options': {'name': ...</td>\n",
              "      <td>20</td>\n",
              "      <td>3</td>\n",
              "      <td>{'name': 'cosine', 'user_based': False}</td>\n",
              "    </tr>\n",
              "    <tr>\n",
              "      <th>2</th>\n",
              "      <td>0.946811</td>\n",
              "      <td>0.949499</td>\n",
              "      <td>0.957541</td>\n",
              "      <td>0.951283</td>\n",
              "      <td>0.004558</td>\n",
              "      <td>8</td>\n",
              "      <td>0.731344</td>\n",
              "      <td>0.733333</td>\n",
              "      <td>0.737888</td>\n",
              "      <td>0.734189</td>\n",
              "      <td>0.002739</td>\n",
              "      <td>8</td>\n",
              "      <td>6.888046</td>\n",
              "      <td>0.337847</td>\n",
              "      <td>11.658863</td>\n",
              "      <td>0.523019</td>\n",
              "      <td>{'k': 20, 'min_k': 6, 'sim_options': {'name': ...</td>\n",
              "      <td>20</td>\n",
              "      <td>6</td>\n",
              "      <td>{'name': 'msd', 'user_based': False}</td>\n",
              "    </tr>\n",
              "    <tr>\n",
              "      <th>3</th>\n",
              "      <td>1.007465</td>\n",
              "      <td>1.012634</td>\n",
              "      <td>1.018121</td>\n",
              "      <td>1.012740</td>\n",
              "      <td>0.004351</td>\n",
              "      <td>17</td>\n",
              "      <td>0.787452</td>\n",
              "      <td>0.789583</td>\n",
              "      <td>0.792685</td>\n",
              "      <td>0.789907</td>\n",
              "      <td>0.002149</td>\n",
              "      <td>17</td>\n",
              "      <td>18.728901</td>\n",
              "      <td>0.505808</td>\n",
              "      <td>12.111295</td>\n",
              "      <td>1.322294</td>\n",
              "      <td>{'k': 20, 'min_k': 6, 'sim_options': {'name': ...</td>\n",
              "      <td>20</td>\n",
              "      <td>6</td>\n",
              "      <td>{'name': 'cosine', 'user_based': False}</td>\n",
              "    </tr>\n",
              "    <tr>\n",
              "      <th>4</th>\n",
              "      <td>0.946887</td>\n",
              "      <td>0.950760</td>\n",
              "      <td>0.958006</td>\n",
              "      <td>0.951885</td>\n",
              "      <td>0.004608</td>\n",
              "      <td>9</td>\n",
              "      <td>0.731561</td>\n",
              "      <td>0.734231</td>\n",
              "      <td>0.738243</td>\n",
              "      <td>0.734678</td>\n",
              "      <td>0.002746</td>\n",
              "      <td>9</td>\n",
              "      <td>6.127748</td>\n",
              "      <td>0.153382</td>\n",
              "      <td>12.478287</td>\n",
              "      <td>0.635415</td>\n",
              "      <td>{'k': 20, 'min_k': 9, 'sim_options': {'name': ...</td>\n",
              "      <td>20</td>\n",
              "      <td>9</td>\n",
              "      <td>{'name': 'msd', 'user_based': False}</td>\n",
              "    </tr>\n",
              "  </tbody>\n",
              "</table>\n",
              "</div>\n",
              "      <button class=\"colab-df-convert\" onclick=\"convertToInteractive('df-7a3cdadf-66d6-4dad-a79a-aad1be3ee568')\"\n",
              "              title=\"Convert this dataframe to an interactive table.\"\n",
              "              style=\"display:none;\">\n",
              "        \n",
              "  <svg xmlns=\"http://www.w3.org/2000/svg\" height=\"24px\"viewBox=\"0 0 24 24\"\n",
              "       width=\"24px\">\n",
              "    <path d=\"M0 0h24v24H0V0z\" fill=\"none\"/>\n",
              "    <path d=\"M18.56 5.44l.94 2.06.94-2.06 2.06-.94-2.06-.94-.94-2.06-.94 2.06-2.06.94zm-11 1L8.5 8.5l.94-2.06 2.06-.94-2.06-.94L8.5 2.5l-.94 2.06-2.06.94zm10 10l.94 2.06.94-2.06 2.06-.94-2.06-.94-.94-2.06-.94 2.06-2.06.94z\"/><path d=\"M17.41 7.96l-1.37-1.37c-.4-.4-.92-.59-1.43-.59-.52 0-1.04.2-1.43.59L10.3 9.45l-7.72 7.72c-.78.78-.78 2.05 0 2.83L4 21.41c.39.39.9.59 1.41.59.51 0 1.02-.2 1.41-.59l7.78-7.78 2.81-2.81c.8-.78.8-2.07 0-2.86zM5.41 20L4 18.59l7.72-7.72 1.47 1.35L5.41 20z\"/>\n",
              "  </svg>\n",
              "      </button>\n",
              "      \n",
              "  <style>\n",
              "    .colab-df-container {\n",
              "      display:flex;\n",
              "      flex-wrap:wrap;\n",
              "      gap: 12px;\n",
              "    }\n",
              "\n",
              "    .colab-df-convert {\n",
              "      background-color: #E8F0FE;\n",
              "      border: none;\n",
              "      border-radius: 50%;\n",
              "      cursor: pointer;\n",
              "      display: none;\n",
              "      fill: #1967D2;\n",
              "      height: 32px;\n",
              "      padding: 0 0 0 0;\n",
              "      width: 32px;\n",
              "    }\n",
              "\n",
              "    .colab-df-convert:hover {\n",
              "      background-color: #E2EBFA;\n",
              "      box-shadow: 0px 1px 2px rgba(60, 64, 67, 0.3), 0px 1px 3px 1px rgba(60, 64, 67, 0.15);\n",
              "      fill: #174EA6;\n",
              "    }\n",
              "\n",
              "    [theme=dark] .colab-df-convert {\n",
              "      background-color: #3B4455;\n",
              "      fill: #D2E3FC;\n",
              "    }\n",
              "\n",
              "    [theme=dark] .colab-df-convert:hover {\n",
              "      background-color: #434B5C;\n",
              "      box-shadow: 0px 1px 3px 1px rgba(0, 0, 0, 0.15);\n",
              "      filter: drop-shadow(0px 1px 2px rgba(0, 0, 0, 0.3));\n",
              "      fill: #FFFFFF;\n",
              "    }\n",
              "  </style>\n",
              "\n",
              "      <script>\n",
              "        const buttonEl =\n",
              "          document.querySelector('#df-7a3cdadf-66d6-4dad-a79a-aad1be3ee568 button.colab-df-convert');\n",
              "        buttonEl.style.display =\n",
              "          google.colab.kernel.accessAllowed ? 'block' : 'none';\n",
              "\n",
              "        async function convertToInteractive(key) {\n",
              "          const element = document.querySelector('#df-7a3cdadf-66d6-4dad-a79a-aad1be3ee568');\n",
              "          const dataTable =\n",
              "            await google.colab.kernel.invokeFunction('convertToInteractive',\n",
              "                                                     [key], {});\n",
              "          if (!dataTable) return;\n",
              "\n",
              "          const docLinkHtml = 'Like what you see? Visit the ' +\n",
              "            '<a target=\"_blank\" href=https://colab.research.google.com/notebooks/data_table.ipynb>data table notebook</a>'\n",
              "            + ' to learn more about interactive tables.';\n",
              "          element.innerHTML = '';\n",
              "          dataTable['output_type'] = 'display_data';\n",
              "          await google.colab.output.renderOutput(dataTable, element);\n",
              "          const docLink = document.createElement('div');\n",
              "          docLink.innerHTML = docLinkHtml;\n",
              "          element.appendChild(docLink);\n",
              "        }\n",
              "      </script>\n",
              "    </div>\n",
              "  </div>\n",
              "  "
            ]
          },
          "metadata": {},
          "execution_count": 47
        }
      ],
      "source": [
        "results_df = pd.DataFrame.from_dict(grid_obj.cv_results)\n",
        "results_df.head()"
      ]
    },
    {
      "cell_type": "markdown",
      "source": [
        "Now let's build the **final model** by using **tuned values of the hyperparameters** which we received by using grid search cross-validation."
      ],
      "metadata": {
        "id": "rJkmvdsf2rUt"
      }
    },
    {
      "cell_type": "code",
      "execution_count": null,
      "metadata": {
        "id": "46irii4pwICL",
        "colab": {
          "base_uri": "https://localhost:8080/"
        },
        "outputId": "92c0bbd8-580e-48c7-9618-8e7b3ce41ef6"
      },
      "outputs": [
        {
          "output_type": "stream",
          "name": "stdout",
          "text": [
            "RMSE: 1.0033\n"
          ]
        },
        {
          "output_type": "execute_result",
          "data": {
            "text/plain": [
              "1.003305781843711"
            ]
          },
          "metadata": {},
          "execution_count": 52
        }
      ],
      "source": [
        "# Remove _______ and complete the code\n",
        "# Creating an instance of KNNBasic with optimal hyperparameter values\n",
        "similarity_algo_optimized_item = KNNBasic(sim_options=sim_options, k=40, min_k=3,verbose=False)\n",
        "\n",
        "\n",
        "# Training the algorithm on the trainset\n",
        "similarity_algo_optimized_item.fit(trainset)\n",
        "\n",
        "# Predicting ratings for the testset\n",
        "predictions = similarity_algo_optimized_item.test(testset)\n",
        "\n",
        "# Computing RMSE on testset\n",
        "accuracy.rmse(predictions)"
      ]
    },
    {
      "cell_type": "markdown",
      "metadata": {
        "id": "OTdrMpQUwICM"
      },
      "source": [
        "**Write your Answer here:We can see from above that after tuning hyperparameters, RMSE for testset has increase from 1.0032 to 1.0033. We can say that we have not been able to improve the model after hyperpapameter tuning.**"
      ]
    },
    {
      "cell_type": "markdown",
      "metadata": {
        "id": "tiDcRQDvwICN"
      },
      "source": [
        "### **Q 4.4 What is the Predicted rating for an item with userId =4 and for movieId= 10 and movieId=3 using tuned item based collaborative filtering? (1 Mark)**"
      ]
    },
    {
      "cell_type": "markdown",
      "metadata": {
        "id": "5IGjjEtpwICN"
      },
      "source": [
        "Let's us now predict rating for an user with `userId=4` and for `movieId=10` with the optimized model as shown below"
      ]
    },
    {
      "cell_type": "code",
      "execution_count": null,
      "metadata": {
        "id": "Wg8APEG4wICO",
        "colab": {
          "base_uri": "https://localhost:8080/"
        },
        "outputId": "2dd4c62f-6e8b-4b01-fdc4-0f4dc5ffd00e"
      },
      "outputs": [
        {
          "output_type": "stream",
          "name": "stdout",
          "text": [
            "user: 4          item: 10         r_ui = 4.00   est = 4.37   {'actual_k': 40, 'was_impossible': False}\n"
          ]
        },
        {
          "output_type": "execute_result",
          "data": {
            "text/plain": [
              "Prediction(uid=4, iid=10, r_ui=4, est=4.373794871885004, details={'actual_k': 40, 'was_impossible': False})"
            ]
          },
          "metadata": {},
          "execution_count": 53
        }
      ],
      "source": [
        "# Remove _______ and complete the code\n",
        "similarity_algo_optimized_item.predict(4,10, r_ui=4, verbose=True)"
      ]
    },
    {
      "cell_type": "markdown",
      "metadata": {
        "id": "qUXl61_5wICP"
      },
      "source": [
        "**Write your Answer here:If we compare the above predicted rating, we can see the baseline moedel predicted rating as 4.37 and the optimized predicted rating as 4.37, whereas the actual rating is 4.00.**"
      ]
    },
    {
      "cell_type": "markdown",
      "metadata": {
        "id": "HDNNs3cqwICP"
      },
      "source": [
        "Let's predict the rating for the same `userId=4` but for a movie which this user has not interacted before i.e. `movieId=3`, by using the optimized model:"
      ]
    },
    {
      "cell_type": "code",
      "execution_count": null,
      "metadata": {
        "id": "oEew8TwvwICQ",
        "colab": {
          "base_uri": "https://localhost:8080/"
        },
        "outputId": "5e23cc60-8027-4ff3-acd2-d65d4478c4b4"
      },
      "outputs": [
        {
          "output_type": "stream",
          "name": "stdout",
          "text": [
            "user: 4          item: 3          r_ui = None   est = 4.07   {'actual_k': 40, 'was_impossible': False}\n"
          ]
        },
        {
          "output_type": "execute_result",
          "data": {
            "text/plain": [
              "Prediction(uid=4, iid=3, r_ui=None, est=4.071601862880049, details={'actual_k': 40, 'was_impossible': False})"
            ]
          },
          "metadata": {},
          "execution_count": 54
        }
      ],
      "source": [
        "# Remove _______ and complete the code\n",
        "similarity_algo_optimized_item.predict(4,3, verbose=True)"
      ]
    },
    {
      "cell_type": "markdown",
      "metadata": {
        "id": "sTKvXHU0wICR"
      },
      "source": [
        "**Write your Answer here:If we compare the above predicted rating, we can see the baseline model predicted rating as 5 and the optimized model predicted the rating as 4.07 **"
      ]
    },
    {
      "cell_type": "markdown",
      "metadata": {
        "id": "xquRIW-XwICS"
      },
      "source": [
        "### **Identifying similar users to a given user (nearest neighbors)**\n",
        "We can also find out the similar users to a given user or its nearest neighbors based on this KNNBasic algorithm. Below we are finding 5 most similar user to the `userId=4` based on the `msd` distance metric"
      ]
    },
    {
      "cell_type": "code",
      "execution_count": null,
      "metadata": {
        "id": "b4HbXJv-wICS",
        "colab": {
          "base_uri": "https://localhost:8080/"
        },
        "outputId": "7d933147-9917-4288-83c2-8fcb7030a8c6"
      },
      "outputs": [
        {
          "output_type": "execute_result",
          "data": {
            "text/plain": [
              "[11, 19, 27, 29, 36]"
            ]
          },
          "metadata": {},
          "execution_count": 55
        }
      ],
      "source": [
        "# Remove _______ and complete the code\n",
        "similarity_algo_optimized_item.get_neighbors(4, k=5)"
      ]
    },
    {
      "cell_type": "markdown",
      "metadata": {
        "id": "PI69gPEdwICZ"
      },
      "source": [
        "#### **Predicted top 5 movies for userId=4 with similarity based recommendation system**"
      ]
    },
    {
      "cell_type": "code",
      "execution_count": null,
      "metadata": {
        "id": "RAzdWtCSwICa"
      },
      "outputs": [],
      "source": [
        "# Remove _______ and complete the code\n",
        "recommendations = get_recommendations(rating, 4, 5, similarity_algo_optimized_item)"
      ]
    },
    {
      "cell_type": "markdown",
      "metadata": {
        "id": "_cDPuGWcwICb"
      },
      "source": [
        "### **Q 4.5 Predict the top 5 movies for userId=4 with similarity based recommendation system (1 Mark)**"
      ]
    },
    {
      "cell_type": "code",
      "execution_count": null,
      "metadata": {
        "id": "kJICKPecwICb",
        "colab": {
          "base_uri": "https://localhost:8080/"
        },
        "outputId": "6e1d9c28-2c32-480a-cac1-544c26c875b9"
      },
      "outputs": [
        {
          "output_type": "execute_result",
          "data": {
            "text/plain": [
              "[(84, 5), (1040, 5), (1067, 5), (2481, 5), (3078, 5)]"
            ]
          },
          "metadata": {},
          "execution_count": 57
        }
      ],
      "source": [
        "recommendations"
      ]
    },
    {
      "cell_type": "markdown",
      "metadata": {
        "id": "rKgJpSA9vOOL"
      },
      "source": [
        "## **Model 4: Based Collaborative Filtering - Matrix Factorization using SVD (7 Marks)**"
      ]
    },
    {
      "cell_type": "markdown",
      "metadata": {
        "id": "YF6ZGyqhCAob"
      },
      "source": [
        "Model-based Collaborative Filtering is a **personalized recommendation system**, the recommendations are based on the past behavior of the user and it is not dependent on any additional information. We use **latent features** to find recommendations for each user."
      ]
    },
    {
      "cell_type": "markdown",
      "metadata": {
        "id": "uxGWVpOMvOOL"
      },
      "source": [
        "**Latent Features:** The features that are not present in the empirical data but can be inferred from the data. For example:"
      ]
    },
    {
      "cell_type": "markdown",
      "metadata": {
        "id": "ZfVDC0IuvOOL"
      },
      "source": [
        "![test_image](https://raw.githubusercontent.com/GL-ACADOPS/RS-IMAGES/main/CF3.PNG)"
      ]
    },
    {
      "cell_type": "markdown",
      "metadata": {
        "id": "W2TTW8YfvOOL"
      },
      "source": [
        "Now if we notice the above movies closely:"
      ]
    },
    {
      "cell_type": "markdown",
      "metadata": {
        "id": "RDcl6w2WvOOL"
      },
      "source": [
        "![test_image](https://raw.githubusercontent.com/GL-ACADOPS/RS-IMAGES/main/CF4.PNG)"
      ]
    },
    {
      "cell_type": "markdown",
      "metadata": {
        "id": "3l7fsZWNvOOL"
      },
      "source": [
        "Here **Action**, **Romance**, **Suspense** and **Comedy** are latent features of the corresponding movies. Similarly, we can compute the latent features for users as shown below:"
      ]
    },
    {
      "cell_type": "markdown",
      "metadata": {
        "id": "0Ad4w7bvvOOL"
      },
      "source": [
        "![test_image](https://raw.githubusercontent.com/GL-ACADOPS/RS-IMAGES/main/CF5.PNG)\n",
        "\n"
      ]
    },
    {
      "cell_type": "markdown",
      "metadata": {
        "id": "n4Otha8ovOOL"
      },
      "source": [
        "### **Singular Value Decomposition (SVD)**"
      ]
    },
    {
      "cell_type": "markdown",
      "metadata": {
        "id": "3sGl3QkLvOOL"
      },
      "source": [
        "SVD is used to **compute the latent features** from the **user-item matrix**. But SVD does not work when we **miss values** in the **user-item matrix**."
      ]
    },
    {
      "cell_type": "markdown",
      "metadata": {
        "id": "C80zDC6xvOOL"
      },
      "source": [
        "First we need to convert the below movie-rating dataset:"
      ]
    },
    {
      "cell_type": "markdown",
      "metadata": {
        "id": "xA_MGBrwvOOL"
      },
      "source": [
        "![test_image](https://raw.githubusercontent.com/GL-ACADOPS/RS-IMAGES/main/CF3.PNG)"
      ]
    },
    {
      "cell_type": "markdown",
      "metadata": {
        "id": "3q39l4__vOOL"
      },
      "source": [
        "into an user-item matrix as shown below:"
      ]
    },
    {
      "cell_type": "markdown",
      "metadata": {
        "id": "kAz3MNfEvOOL"
      },
      "source": [
        "![test_image](https://raw.githubusercontent.com/GL-ACADOPS/RS-IMAGES/main/CF6.PNG)"
      ]
    },
    {
      "cell_type": "markdown",
      "metadata": {
        "id": "6piwQzq3vOOL"
      },
      "source": [
        "We have already done this above while computing cosine similarities."
      ]
    },
    {
      "cell_type": "markdown",
      "metadata": {
        "id": "gOzTLIfIvOOL"
      },
      "source": [
        "**SVD decomposes this above matrix into three separate matrices:**\n",
        "- U matrix\n",
        "- Sigma matrix\n",
        "- V transpose matrix"
      ]
    },
    {
      "cell_type": "markdown",
      "metadata": {
        "id": "IVq1fCrBvOOL"
      },
      "source": [
        "#### **U-matrix**"
      ]
    },
    {
      "cell_type": "markdown",
      "metadata": {
        "id": "Y9wsChCmvOOL"
      },
      "source": [
        "![test_image](https://raw.githubusercontent.com/GL-ACADOPS/RS-IMAGES/main/CF7.PNG)"
      ]
    },
    {
      "cell_type": "markdown",
      "metadata": {
        "id": "hA1dXvYXvOOL"
      },
      "source": [
        "the above matrix is a n x k matrix, where:\n",
        "- n is number of users\n",
        "- k is number of latent features"
      ]
    },
    {
      "cell_type": "markdown",
      "metadata": {
        "id": "dplq-n9dvOOL"
      },
      "source": [
        "#### **Sigma-matrix**"
      ]
    },
    {
      "cell_type": "markdown",
      "metadata": {
        "id": "kB6jCN5svOOL"
      },
      "source": [
        "![test_image](https://raw.githubusercontent.com/GL-ACADOPS/RS-IMAGES/main/CF8.PNG)"
      ]
    },
    {
      "cell_type": "markdown",
      "metadata": {
        "id": "-twhbZ3wvOOL"
      },
      "source": [
        "the above matrix is a k x k matrix, where:\n",
        "- k is number of latent features\n",
        "- Each diagonal entry is the singular value of the original interaction matrix"
      ]
    },
    {
      "cell_type": "markdown",
      "metadata": {
        "id": "nr0dF0XcvOOL"
      },
      "source": [
        "#### **V-transpose matrix**"
      ]
    },
    {
      "cell_type": "markdown",
      "metadata": {
        "id": "hz82XFEgvOOL"
      },
      "source": [
        "![test_image](https://raw.githubusercontent.com/GL-ACADOPS/RS-IMAGES/main/CF9.PNG)"
      ]
    },
    {
      "cell_type": "markdown",
      "metadata": {
        "id": "o9B1119q2N-M"
      },
      "source": [
        "the above matrix is a kxn matrix, where:\n",
        "- k is the number of latent features\n",
        "- n is the number of items"
      ]
    },
    {
      "cell_type": "markdown",
      "metadata": {
        "id": "uOtkUXmAnVNL"
      },
      "source": [
        "### **Build a baseline matrix factorization recommendation system**"
      ]
    },
    {
      "cell_type": "code",
      "execution_count": null,
      "metadata": {
        "id": "07-2PT5Ssjqm",
        "colab": {
          "base_uri": "https://localhost:8080/"
        },
        "outputId": "b9c68b9f-5874-4cb8-adba-80b440ba1902"
      },
      "outputs": [
        {
          "output_type": "stream",
          "name": "stdout",
          "text": [
            "RMSE: 0.9040\n"
          ]
        },
        {
          "output_type": "execute_result",
          "data": {
            "text/plain": [
              "0.9039609952729857"
            ]
          },
          "metadata": {},
          "execution_count": 58
        }
      ],
      "source": [
        "# Remove _______ and complete the code\n",
        "\n",
        "# Using SVD matrix factorization\n",
        "algo_svd = SVD()\n",
        "\n",
        "# Training the algorithm on the trainset\n",
        "algo_svd.fit(trainset)\n",
        "\n",
        "# Predicting ratings for the testset\n",
        "predictions = algo_svd.test(testset)\n",
        "\n",
        "# Computing RMSE on the testset\n",
        "accuracy.rmse(predictions)"
      ]
    },
    {
      "cell_type": "markdown",
      "metadata": {
        "id": "2271PkTuwICu"
      },
      "source": [
        "### **Q 5.1 What is the RMSE for baseline SVD based collaborative filtering recommendation system? (1 Mark)**"
      ]
    },
    {
      "cell_type": "markdown",
      "metadata": {
        "id": "BQ6fTuCDnVNL"
      },
      "source": [
        "**Write your Answer here:We can see that the baseline RMSE for matrix factorization model on testset(which is 0.90) is lower as compared to RMSE for baseline similarity based recommendation system and RMSE for optimized similarity based recommendation system.**"
      ]
    },
    {
      "cell_type": "markdown",
      "metadata": {
        "id": "fsBGQrwCwICv"
      },
      "source": [
        "### **Q 5.2 What is the Predicted  rating for an user with userId =4 and for movieId= 10 and movieId=3? (1 Mark)**"
      ]
    },
    {
      "cell_type": "markdown",
      "metadata": {
        "id": "HD2AU1DnnVNM"
      },
      "source": [
        "Let's us now predict rating for an user with `userId=4` and for `movieId=10`"
      ]
    },
    {
      "cell_type": "code",
      "execution_count": null,
      "metadata": {
        "id": "yWIhfdxXsjqm",
        "colab": {
          "base_uri": "https://localhost:8080/"
        },
        "outputId": "a507db34-7c12-44b0-b35f-904eb4218623"
      },
      "outputs": [
        {
          "output_type": "stream",
          "name": "stdout",
          "text": [
            "user: 4          item: 10         r_ui = 4.00   est = 4.10   {'was_impossible': False}\n"
          ]
        },
        {
          "output_type": "execute_result",
          "data": {
            "text/plain": [
              "Prediction(uid=4, iid=10, r_ui=4, est=4.1027158573312335, details={'was_impossible': False})"
            ]
          },
          "metadata": {},
          "execution_count": 59
        }
      ],
      "source": [
        "# Remove _______ and complete the code\n",
        "algo_svd.predict(4, 10, r_ui=4, verbose=True)"
      ]
    },
    {
      "cell_type": "markdown",
      "metadata": {
        "id": "oIjzqDY5nVNM"
      },
      "source": [
        "**Write your Answer here:As we can see, the actual rating for this user-movie pair is 4 and predicted rating is 4.10 by this matrix factorization based baseline model. It seems like we have over estimated the rating by a small margin.**"
      ]
    },
    {
      "cell_type": "markdown",
      "metadata": {
        "id": "I1aYxVeMnVNM"
      },
      "source": [
        "Let's predict the rating for the same `userId=4` but for a movie which this user has not interacted before i.e. `movieId=3`:"
      ]
    },
    {
      "cell_type": "code",
      "execution_count": null,
      "metadata": {
        "id": "APm-uMSvcAMf",
        "colab": {
          "base_uri": "https://localhost:8080/"
        },
        "outputId": "15beb1af-3f4b-4b46-dda8-7827ccfc605e"
      },
      "outputs": [
        {
          "output_type": "stream",
          "name": "stdout",
          "text": [
            "user: 4          item: 3          r_ui = None   est = 3.46   {'was_impossible': False}\n"
          ]
        },
        {
          "output_type": "execute_result",
          "data": {
            "text/plain": [
              "Prediction(uid=4, iid=3, r_ui=None, est=3.4639950136149644, details={'was_impossible': False})"
            ]
          },
          "metadata": {},
          "execution_count": 60
        }
      ],
      "source": [
        "# Remove _______ and complete the code\n",
        "algo_svd.predict(4, 3, verbose=True)"
      ]
    },
    {
      "cell_type": "markdown",
      "metadata": {
        "id": "NEL6dy3wnVNM"
      },
      "source": [
        "**Write your Answer here:We can see that the estimated rating for this user-movie pair is 3.46 based on this matrix factorization based baseline model.**"
      ]
    },
    {
      "cell_type": "markdown",
      "metadata": {
        "id": "x13Eb9Owvpcw"
      },
      "source": [
        "### **Improving matrix factorization based recommendation system by tuning its hyper-parameters**"
      ]
    },
    {
      "cell_type": "markdown",
      "metadata": {
        "id": "qbd3L1d2nVNM"
      },
      "source": [
        "In SVD, rating is predicted as - "
      ]
    },
    {
      "cell_type": "markdown",
      "metadata": {
        "id": "Wp38lmEqnVNM"
      },
      "source": [
        "$$\\hat{r}_{u i}=\\mu+b_{u}+b_{i}+q_{i}^{T} p_{u}$$"
      ]
    },
    {
      "cell_type": "markdown",
      "metadata": {
        "id": "bHVAYuFznVNN"
      },
      "source": [
        "If user $u$ is unknown, then the bias $b_{u}$ and the factors $p_{u}$ are assumed to be zero. The same applies for item $i$ with $b_{i}$ and $q_{i}$."
      ]
    },
    {
      "cell_type": "markdown",
      "metadata": {
        "id": "jCfY5mr7nVNN"
      },
      "source": [
        "To estimate all the unknown, we minimize the following regularized squared error:"
      ]
    },
    {
      "cell_type": "markdown",
      "metadata": {
        "id": "1WyyjmK7nVNN"
      },
      "source": [
        "$$\\sum_{r_{u i} \\in R_{\\text {train }}}\\left(r_{u i}-\\hat{r}_{u i}\\right)^{2}+\\lambda\\left(b_{i}^{2}+b_{u}^{2}+\\left\\|q_{i}\\right\\|^{2}+\\left\\|p_{u}\\right\\|^{2}\\right)$$"
      ]
    },
    {
      "cell_type": "markdown",
      "metadata": {
        "id": "-GBMNL9qnVNN"
      },
      "source": [
        "The minimization is performed by a very straightforward **stochastic gradient descent**:"
      ]
    },
    {
      "cell_type": "markdown",
      "metadata": {
        "id": "CwJJRsJGnVNN"
      },
      "source": [
        "$$\\begin{aligned} b_{u} & \\leftarrow b_{u}+\\gamma\\left(e_{u i}-\\lambda b_{u}\\right) \\\\ b_{i} & \\leftarrow b_{i}+\\gamma\\left(e_{u i}-\\lambda b_{i}\\right) \\\\ p_{u} & \\leftarrow p_{u}+\\gamma\\left(e_{u i} \\cdot q_{i}-\\lambda p_{u}\\right) \\\\ q_{i} & \\leftarrow q_{i}+\\gamma\\left(e_{u i} \\cdot p_{u}-\\lambda q_{i}\\right) \\end{aligned}$$"
      ]
    },
    {
      "cell_type": "markdown",
      "metadata": {
        "id": "nuRjcsUknVNN"
      },
      "source": [
        "There are many hyperparameters to tune in this algorithm, you can find a full list of hyperparameters [here](https://surprise.readthedocs.io/en/stable/matrix_factorization.html#surprise.prediction_algorithms.matrix_factorization.SVD)"
      ]
    },
    {
      "cell_type": "markdown",
      "metadata": {
        "id": "iQcDPhhcnVNN"
      },
      "source": [
        "Below we will be tuning only three hyperparameters -\n",
        "- **n_epochs**: The number of iteration of the SGD algorithm\n",
        "- **lr_all**: The learning rate for all parameters\n",
        "- **reg_all**: The regularization term for all parameters"
      ]
    },
    {
      "cell_type": "markdown",
      "metadata": {
        "id": "ksN4zUnUwIC_"
      },
      "source": [
        "### **Q 5.3 Perform hyperparameter tuning for the baseline SVD based collaborative filtering recommendation system and find the RMSE for tuned SVD based collaborative filtering recommendation system? (3 Marks)**"
      ]
    },
    {
      "cell_type": "code",
      "execution_count": null,
      "metadata": {
        "id": "4bM81V_hvtwv",
        "colab": {
          "base_uri": "https://localhost:8080/"
        },
        "outputId": "00b1a107-48e0-4b39-ab55-7d075f14f018"
      },
      "outputs": [
        {
          "output_type": "stream",
          "name": "stdout",
          "text": [
            "0.8930794083563489\n",
            "{'n_epochs': 30, 'lr_all': 0.01, 'reg_all': 0.2}\n"
          ]
        }
      ],
      "source": [
        "# Remove _______ and complete the code\n",
        "\n",
        "# Set the parameter space to tune\n",
        "param_grid = {'n_epochs': [10, 20, 30], 'lr_all': [0.001, 0.005, 0.01],\n",
        "              'reg_all': [0.2, 0.4, 0.6]}\n",
        "\n",
        "# Performing 3-fold gridsearch cross validation\n",
        "gs = GridSearchCV(SVD, param_grid, measures=['rmse', 'mae'], cv=3, n_jobs=-1)\n",
        "\n",
        "# Fitting data\n",
        "gs.fit(data)\n",
        "\n",
        "# Best RMSE score\n",
        "print(gs.best_score['rmse'])\n",
        "\n",
        "# Combination of parameters that gave the best RMSE score\n",
        "print(gs.best_params['rmse'])"
      ]
    },
    {
      "cell_type": "markdown",
      "metadata": {
        "id": "cjIaWSIAnVNN"
      },
      "source": [
        "Once the **grid search** is complete, we can get the **optimal values** for each of those hyperparameters, as shown above."
      ]
    },
    {
      "cell_type": "markdown",
      "metadata": {
        "id": "2CfLdGf0nVNN"
      },
      "source": [
        "Below we are analysing evaluation metrics - RMSE and MAE at each and every split to analyze the impact of each value of hyperparameters"
      ]
    },
    {
      "cell_type": "code",
      "execution_count": null,
      "metadata": {
        "id": "RMb3t3z_vt8W",
        "colab": {
          "base_uri": "https://localhost:8080/",
          "height": 617
        },
        "outputId": "01b68c6d-152a-4c79-c343-7dd69309f030"
      },
      "outputs": [
        {
          "output_type": "execute_result",
          "data": {
            "text/plain": [
              "   split0_test_rmse  split1_test_rmse  split2_test_rmse  mean_test_rmse  \\\n",
              "0          0.944891          0.945301          0.939755        0.943316   \n",
              "1          0.949060          0.949582          0.943553        0.947398   \n",
              "2          0.954385          0.955029          0.948839        0.952751   \n",
              "3          0.908618          0.908332          0.902965        0.906638   \n",
              "4          0.915798          0.915637          0.909953        0.913796   \n",
              "\n",
              "   std_test_rmse  rank_test_rmse  split0_test_mae  split1_test_mae  \\\n",
              "0       0.002524              25         0.739528         0.740494   \n",
              "1       0.002727              26         0.744312         0.745218   \n",
              "2       0.002779              27         0.750129         0.751219   \n",
              "3       0.002600              11         0.704008         0.704562   \n",
              "4       0.002718              15         0.711892         0.712370   \n",
              "\n",
              "   split2_test_mae  mean_test_mae  std_test_mae  rank_test_mae  mean_fit_time  \\\n",
              "0         0.734734       0.738252      0.002518             25       4.869006   \n",
              "1         0.739678       0.743069      0.002426             26       5.062289   \n",
              "2         0.745428       0.748925      0.002513             27       5.007256   \n",
              "3         0.698959       0.702509      0.002521              9       5.032543   \n",
              "4         0.706597       0.710286      0.002616             15       5.127030   \n",
              "\n",
              "   std_fit_time  mean_test_time  std_test_time  \\\n",
              "0      0.498799        0.719421       0.021499   \n",
              "1      0.097338        0.614109       0.020921   \n",
              "2      0.107643        0.583731       0.071424   \n",
              "3      0.156971        0.610991       0.004905   \n",
              "4      0.113512        0.575708       0.015462   \n",
              "\n",
              "                                              params  param_n_epochs  \\\n",
              "0  {'n_epochs': 10, 'lr_all': 0.001, 'reg_all': 0.2}              10   \n",
              "1  {'n_epochs': 10, 'lr_all': 0.001, 'reg_all': 0.4}              10   \n",
              "2  {'n_epochs': 10, 'lr_all': 0.001, 'reg_all': 0.6}              10   \n",
              "3  {'n_epochs': 10, 'lr_all': 0.005, 'reg_all': 0.2}              10   \n",
              "4  {'n_epochs': 10, 'lr_all': 0.005, 'reg_all': 0.4}              10   \n",
              "\n",
              "   param_lr_all  param_reg_all  \n",
              "0         0.001            0.2  \n",
              "1         0.001            0.4  \n",
              "2         0.001            0.6  \n",
              "3         0.005            0.2  \n",
              "4         0.005            0.4  "
            ],
            "text/html": [
              "\n",
              "  <div id=\"df-43f82df8-2fbe-4071-b543-5d8afa017a6c\">\n",
              "    <div class=\"colab-df-container\">\n",
              "      <div>\n",
              "<style scoped>\n",
              "    .dataframe tbody tr th:only-of-type {\n",
              "        vertical-align: middle;\n",
              "    }\n",
              "\n",
              "    .dataframe tbody tr th {\n",
              "        vertical-align: top;\n",
              "    }\n",
              "\n",
              "    .dataframe thead th {\n",
              "        text-align: right;\n",
              "    }\n",
              "</style>\n",
              "<table border=\"1\" class=\"dataframe\">\n",
              "  <thead>\n",
              "    <tr style=\"text-align: right;\">\n",
              "      <th></th>\n",
              "      <th>split0_test_rmse</th>\n",
              "      <th>split1_test_rmse</th>\n",
              "      <th>split2_test_rmse</th>\n",
              "      <th>mean_test_rmse</th>\n",
              "      <th>std_test_rmse</th>\n",
              "      <th>rank_test_rmse</th>\n",
              "      <th>split0_test_mae</th>\n",
              "      <th>split1_test_mae</th>\n",
              "      <th>split2_test_mae</th>\n",
              "      <th>mean_test_mae</th>\n",
              "      <th>std_test_mae</th>\n",
              "      <th>rank_test_mae</th>\n",
              "      <th>mean_fit_time</th>\n",
              "      <th>std_fit_time</th>\n",
              "      <th>mean_test_time</th>\n",
              "      <th>std_test_time</th>\n",
              "      <th>params</th>\n",
              "      <th>param_n_epochs</th>\n",
              "      <th>param_lr_all</th>\n",
              "      <th>param_reg_all</th>\n",
              "    </tr>\n",
              "  </thead>\n",
              "  <tbody>\n",
              "    <tr>\n",
              "      <th>0</th>\n",
              "      <td>0.944891</td>\n",
              "      <td>0.945301</td>\n",
              "      <td>0.939755</td>\n",
              "      <td>0.943316</td>\n",
              "      <td>0.002524</td>\n",
              "      <td>25</td>\n",
              "      <td>0.739528</td>\n",
              "      <td>0.740494</td>\n",
              "      <td>0.734734</td>\n",
              "      <td>0.738252</td>\n",
              "      <td>0.002518</td>\n",
              "      <td>25</td>\n",
              "      <td>4.869006</td>\n",
              "      <td>0.498799</td>\n",
              "      <td>0.719421</td>\n",
              "      <td>0.021499</td>\n",
              "      <td>{'n_epochs': 10, 'lr_all': 0.001, 'reg_all': 0.2}</td>\n",
              "      <td>10</td>\n",
              "      <td>0.001</td>\n",
              "      <td>0.2</td>\n",
              "    </tr>\n",
              "    <tr>\n",
              "      <th>1</th>\n",
              "      <td>0.949060</td>\n",
              "      <td>0.949582</td>\n",
              "      <td>0.943553</td>\n",
              "      <td>0.947398</td>\n",
              "      <td>0.002727</td>\n",
              "      <td>26</td>\n",
              "      <td>0.744312</td>\n",
              "      <td>0.745218</td>\n",
              "      <td>0.739678</td>\n",
              "      <td>0.743069</td>\n",
              "      <td>0.002426</td>\n",
              "      <td>26</td>\n",
              "      <td>5.062289</td>\n",
              "      <td>0.097338</td>\n",
              "      <td>0.614109</td>\n",
              "      <td>0.020921</td>\n",
              "      <td>{'n_epochs': 10, 'lr_all': 0.001, 'reg_all': 0.4}</td>\n",
              "      <td>10</td>\n",
              "      <td>0.001</td>\n",
              "      <td>0.4</td>\n",
              "    </tr>\n",
              "    <tr>\n",
              "      <th>2</th>\n",
              "      <td>0.954385</td>\n",
              "      <td>0.955029</td>\n",
              "      <td>0.948839</td>\n",
              "      <td>0.952751</td>\n",
              "      <td>0.002779</td>\n",
              "      <td>27</td>\n",
              "      <td>0.750129</td>\n",
              "      <td>0.751219</td>\n",
              "      <td>0.745428</td>\n",
              "      <td>0.748925</td>\n",
              "      <td>0.002513</td>\n",
              "      <td>27</td>\n",
              "      <td>5.007256</td>\n",
              "      <td>0.107643</td>\n",
              "      <td>0.583731</td>\n",
              "      <td>0.071424</td>\n",
              "      <td>{'n_epochs': 10, 'lr_all': 0.001, 'reg_all': 0.6}</td>\n",
              "      <td>10</td>\n",
              "      <td>0.001</td>\n",
              "      <td>0.6</td>\n",
              "    </tr>\n",
              "    <tr>\n",
              "      <th>3</th>\n",
              "      <td>0.908618</td>\n",
              "      <td>0.908332</td>\n",
              "      <td>0.902965</td>\n",
              "      <td>0.906638</td>\n",
              "      <td>0.002600</td>\n",
              "      <td>11</td>\n",
              "      <td>0.704008</td>\n",
              "      <td>0.704562</td>\n",
              "      <td>0.698959</td>\n",
              "      <td>0.702509</td>\n",
              "      <td>0.002521</td>\n",
              "      <td>9</td>\n",
              "      <td>5.032543</td>\n",
              "      <td>0.156971</td>\n",
              "      <td>0.610991</td>\n",
              "      <td>0.004905</td>\n",
              "      <td>{'n_epochs': 10, 'lr_all': 0.005, 'reg_all': 0.2}</td>\n",
              "      <td>10</td>\n",
              "      <td>0.005</td>\n",
              "      <td>0.2</td>\n",
              "    </tr>\n",
              "    <tr>\n",
              "      <th>4</th>\n",
              "      <td>0.915798</td>\n",
              "      <td>0.915637</td>\n",
              "      <td>0.909953</td>\n",
              "      <td>0.913796</td>\n",
              "      <td>0.002718</td>\n",
              "      <td>15</td>\n",
              "      <td>0.711892</td>\n",
              "      <td>0.712370</td>\n",
              "      <td>0.706597</td>\n",
              "      <td>0.710286</td>\n",
              "      <td>0.002616</td>\n",
              "      <td>15</td>\n",
              "      <td>5.127030</td>\n",
              "      <td>0.113512</td>\n",
              "      <td>0.575708</td>\n",
              "      <td>0.015462</td>\n",
              "      <td>{'n_epochs': 10, 'lr_all': 0.005, 'reg_all': 0.4}</td>\n",
              "      <td>10</td>\n",
              "      <td>0.005</td>\n",
              "      <td>0.4</td>\n",
              "    </tr>\n",
              "  </tbody>\n",
              "</table>\n",
              "</div>\n",
              "      <button class=\"colab-df-convert\" onclick=\"convertToInteractive('df-43f82df8-2fbe-4071-b543-5d8afa017a6c')\"\n",
              "              title=\"Convert this dataframe to an interactive table.\"\n",
              "              style=\"display:none;\">\n",
              "        \n",
              "  <svg xmlns=\"http://www.w3.org/2000/svg\" height=\"24px\"viewBox=\"0 0 24 24\"\n",
              "       width=\"24px\">\n",
              "    <path d=\"M0 0h24v24H0V0z\" fill=\"none\"/>\n",
              "    <path d=\"M18.56 5.44l.94 2.06.94-2.06 2.06-.94-2.06-.94-.94-2.06-.94 2.06-2.06.94zm-11 1L8.5 8.5l.94-2.06 2.06-.94-2.06-.94L8.5 2.5l-.94 2.06-2.06.94zm10 10l.94 2.06.94-2.06 2.06-.94-2.06-.94-.94-2.06-.94 2.06-2.06.94z\"/><path d=\"M17.41 7.96l-1.37-1.37c-.4-.4-.92-.59-1.43-.59-.52 0-1.04.2-1.43.59L10.3 9.45l-7.72 7.72c-.78.78-.78 2.05 0 2.83L4 21.41c.39.39.9.59 1.41.59.51 0 1.02-.2 1.41-.59l7.78-7.78 2.81-2.81c.8-.78.8-2.07 0-2.86zM5.41 20L4 18.59l7.72-7.72 1.47 1.35L5.41 20z\"/>\n",
              "  </svg>\n",
              "      </button>\n",
              "      \n",
              "  <style>\n",
              "    .colab-df-container {\n",
              "      display:flex;\n",
              "      flex-wrap:wrap;\n",
              "      gap: 12px;\n",
              "    }\n",
              "\n",
              "    .colab-df-convert {\n",
              "      background-color: #E8F0FE;\n",
              "      border: none;\n",
              "      border-radius: 50%;\n",
              "      cursor: pointer;\n",
              "      display: none;\n",
              "      fill: #1967D2;\n",
              "      height: 32px;\n",
              "      padding: 0 0 0 0;\n",
              "      width: 32px;\n",
              "    }\n",
              "\n",
              "    .colab-df-convert:hover {\n",
              "      background-color: #E2EBFA;\n",
              "      box-shadow: 0px 1px 2px rgba(60, 64, 67, 0.3), 0px 1px 3px 1px rgba(60, 64, 67, 0.15);\n",
              "      fill: #174EA6;\n",
              "    }\n",
              "\n",
              "    [theme=dark] .colab-df-convert {\n",
              "      background-color: #3B4455;\n",
              "      fill: #D2E3FC;\n",
              "    }\n",
              "\n",
              "    [theme=dark] .colab-df-convert:hover {\n",
              "      background-color: #434B5C;\n",
              "      box-shadow: 0px 1px 3px 1px rgba(0, 0, 0, 0.15);\n",
              "      filter: drop-shadow(0px 1px 2px rgba(0, 0, 0, 0.3));\n",
              "      fill: #FFFFFF;\n",
              "    }\n",
              "  </style>\n",
              "\n",
              "      <script>\n",
              "        const buttonEl =\n",
              "          document.querySelector('#df-43f82df8-2fbe-4071-b543-5d8afa017a6c button.colab-df-convert');\n",
              "        buttonEl.style.display =\n",
              "          google.colab.kernel.accessAllowed ? 'block' : 'none';\n",
              "\n",
              "        async function convertToInteractive(key) {\n",
              "          const element = document.querySelector('#df-43f82df8-2fbe-4071-b543-5d8afa017a6c');\n",
              "          const dataTable =\n",
              "            await google.colab.kernel.invokeFunction('convertToInteractive',\n",
              "                                                     [key], {});\n",
              "          if (!dataTable) return;\n",
              "\n",
              "          const docLinkHtml = 'Like what you see? Visit the ' +\n",
              "            '<a target=\"_blank\" href=https://colab.research.google.com/notebooks/data_table.ipynb>data table notebook</a>'\n",
              "            + ' to learn more about interactive tables.';\n",
              "          element.innerHTML = '';\n",
              "          dataTable['output_type'] = 'display_data';\n",
              "          await google.colab.output.renderOutput(dataTable, element);\n",
              "          const docLink = document.createElement('div');\n",
              "          docLink.innerHTML = docLinkHtml;\n",
              "          element.appendChild(docLink);\n",
              "        }\n",
              "      </script>\n",
              "    </div>\n",
              "  </div>\n",
              "  "
            ]
          },
          "metadata": {},
          "execution_count": 62
        }
      ],
      "source": [
        "results_df = pd.DataFrame.from_dict(gs.cv_results)\n",
        "results_df.head()"
      ]
    },
    {
      "cell_type": "markdown",
      "metadata": {
        "id": "KzY78HsrnVNO"
      },
      "source": [
        "Now, we will **the build final model** by using **tuned values** of the hyperparameters, which we received using grid search cross-validation above."
      ]
    },
    {
      "cell_type": "code",
      "execution_count": null,
      "metadata": {
        "id": "TA_7xe-nnhuu",
        "colab": {
          "base_uri": "https://localhost:8080/"
        },
        "outputId": "24aa327e-73a4-41d3-bbff-ac7d42ecf996"
      },
      "outputs": [
        {
          "output_type": "stream",
          "name": "stdout",
          "text": [
            "RMSE: 0.8954\n"
          ]
        },
        {
          "output_type": "execute_result",
          "data": {
            "text/plain": [
              "0.895391403658031"
            ]
          },
          "metadata": {},
          "execution_count": 63
        }
      ],
      "source": [
        "# Remove _______ and complete the code\n",
        "\n",
        "# Building the optimized SVD model using optimal hyperparameter search\n",
        "svd_algo_optimized = SVD(n_epochs=30, lr_all=0.01, reg_all=0.2)\n",
        "\n",
        "# Training the algorithm on the trainset\n",
        "svd_algo_optimized.fit(trainset)\n",
        "\n",
        "# Predicting ratings for the testset\n",
        "predictions = svd_algo_optimized.test(testset)\n",
        "\n",
        "# Computing RMSE\n",
        "accuracy.rmse(predictions)"
      ]
    },
    {
      "cell_type": "markdown",
      "metadata": {
        "id": "UruWuDiCwIDE"
      },
      "source": [
        "### **Q 5.4 What is the Predicted rating for an user with userId =4 and for movieId= 10 and movieId=3 using SVD based collaborative filtering? (1 Mark)**"
      ]
    },
    {
      "cell_type": "markdown",
      "metadata": {
        "id": "md0-dL56nVNO"
      },
      "source": [
        "Let's us now predict rating for an user with `userId=4` and for `movieId=10` with the optimized model"
      ]
    },
    {
      "cell_type": "code",
      "execution_count": null,
      "metadata": {
        "id": "s6C1PAfboM8_",
        "colab": {
          "base_uri": "https://localhost:8080/"
        },
        "outputId": "b9a04c54-3147-4ae4-9c46-b847162b0abe"
      },
      "outputs": [
        {
          "output_type": "stream",
          "name": "stdout",
          "text": [
            "user: 4          item: 10         r_ui = 4.00   est = 3.99   {'was_impossible': False}\n"
          ]
        },
        {
          "output_type": "execute_result",
          "data": {
            "text/plain": [
              "Prediction(uid=4, iid=10, r_ui=4, est=3.985576946869933, details={'was_impossible': False})"
            ]
          },
          "metadata": {},
          "execution_count": 64
        }
      ],
      "source": [
        "# Remove _______ and complete the code\n",
        "svd_algo_optimized.predict(4, 10, r_ui=4, verbose=True)"
      ]
    },
    {
      "cell_type": "markdown",
      "metadata": {
        "id": "VdiEtzEznVNO"
      },
      "source": [
        "**Write your Answer here:If we compare the above predicted rating, we can see the baseline model predicted rating as 4.10 and the optimized model predicted the rating as 3.99, which is very close to the the actual rating which is 4.00.**"
      ]
    },
    {
      "cell_type": "markdown",
      "source": [
        "Let's predict the rating for the same `userId=4` but for a movie which this user has not interacted before i.e. `movieId=3`:"
      ],
      "metadata": {
        "id": "Qd2bRtIQ4ze5"
      }
    },
    {
      "cell_type": "code",
      "execution_count": null,
      "metadata": {
        "id": "k1xjn3kOoQyg",
        "colab": {
          "base_uri": "https://localhost:8080/"
        },
        "outputId": "3c3100ba-5fde-4bd6-cb73-564387568755"
      },
      "outputs": [
        {
          "output_type": "stream",
          "name": "stdout",
          "text": [
            "user: 4          item: 3          r_ui = None   est = 3.66   {'was_impossible': False}\n"
          ]
        },
        {
          "output_type": "execute_result",
          "data": {
            "text/plain": [
              "Prediction(uid=4, iid=3, r_ui=None, est=3.657515667987565, details={'was_impossible': False})"
            ]
          },
          "metadata": {},
          "execution_count": 65
        }
      ],
      "source": [
        "# Remove _______ and complete the code\n",
        "svd_algo_optimized.predict(4, 3, verbose=True)"
      ]
    },
    {
      "cell_type": "markdown",
      "metadata": {
        "id": "5jlUBrbFwIDH"
      },
      "source": [
        "### **Q 5.5 Predict the top 5 movies for userId=4 with SVD based recommendation system?(1 Mark)**"
      ]
    },
    {
      "cell_type": "code",
      "execution_count": null,
      "metadata": {
        "id": "1LGeE2EB_n90",
        "colab": {
          "base_uri": "https://localhost:8080/"
        },
        "outputId": "c4b8362b-05e2-4e8e-8e85-efed3d37d8fb"
      },
      "outputs": [
        {
          "output_type": "execute_result",
          "data": {
            "text/plain": [
              "[(1192, 5),\n",
              " (116, 4.981131126376542),\n",
              " (926, 4.946294242088574),\n",
              " (3310, 4.944931334098279),\n",
              " (1948, 4.919311671494044)]"
            ]
          },
          "metadata": {},
          "execution_count": 66
        }
      ],
      "source": [
        "# Remove _______ and complete the code\n",
        "get_recommendations(rating, 4, 5, svd_algo_optimized)"
      ]
    },
    {
      "cell_type": "markdown",
      "metadata": {
        "id": "xgKmqss1vqGz"
      },
      "source": [
        "### **Predicting ratings for already interacted movies** "
      ]
    },
    {
      "cell_type": "markdown",
      "metadata": {
        "id": "nNlUEB13wIDJ"
      },
      "source": [
        "Below we are comparing the rating predictions of users for those movies which has been already watched by an user. This will help us to understand how well are predictions are as compared to the actual ratings provided by users"
      ]
    },
    {
      "cell_type": "code",
      "execution_count": null,
      "metadata": {
        "id": "hQIPHA7-vg7W"
      },
      "outputs": [],
      "source": [
        "def predict_already_interacted_ratings(data, user_id, algo):\n",
        "    \n",
        "    # Creating an empty list to store the recommended movie ids\n",
        "    recommendations = []\n",
        "    \n",
        "    # Creating an user item interactions matrix \n",
        "    user_item_interactions_matrix = data.pivot(index='userId', columns='movieId', values='rating')\n",
        "    \n",
        "    # Extracting those movie ids which the user_id has interacted already\n",
        "    interacted_movies = user_item_interactions_matrix.loc[user_id][user_item_interactions_matrix.loc[user_id].notnull()].index.tolist()\n",
        "    \n",
        "    # Looping through each of the movie id which user_id has interacted already\n",
        "    for item_id in interacted_movies:\n",
        "        \n",
        "        # Extracting actual ratings\n",
        "        actual_rating = user_item_interactions_matrix.loc[user_id, item_id]\n",
        "        \n",
        "        # Predicting the ratings for those non interacted movie ids by this user\n",
        "        predicted_rating = algo.predict(user_id, item_id).est\n",
        "        \n",
        "        # Appending the predicted ratings\n",
        "        recommendations.append((item_id, actual_rating, predicted_rating))\n",
        "\n",
        "    # Sorting the predicted ratings in descending order\n",
        "    recommendations.sort(key=lambda x: x[1], reverse=True)\n",
        "\n",
        "    return pd.DataFrame(recommendations, columns=['movieId', 'actual_rating', 'predicted_rating']) # returing top n highest predicted rating movies for this user"
      ]
    },
    {
      "cell_type": "markdown",
      "metadata": {
        "id": "5T0q833lwIDK"
      },
      "source": [
        "Here we are comparing the predicted ratings by `similarity based recommendation` system against actual ratings for `userId=7`"
      ]
    },
    {
      "cell_type": "code",
      "execution_count": null,
      "metadata": {
        "id": "IWQvGj-vyWj3",
        "colab": {
          "base_uri": "https://localhost:8080/",
          "height": 369
        },
        "outputId": "ed93a8ff-891c-4a94-b96f-920e70a903fd"
      },
      "outputs": [
        {
          "output_type": "display_data",
          "data": {
            "text/plain": [
              "<Figure size 478.125x360 with 1 Axes>"
            ],
            "image/png": "[encoded data removed]"
          },
          "metadata": {
            "needs_background": "light"
          }
        }
      ],
      "source": [
        "predicted_ratings_for_interacted_movies = predict_already_interacted_ratings(rating, 7, similarity_algo_optimized_item)\n",
        "df = predicted_ratings_for_interacted_movies.melt(id_vars='movieId', value_vars=['actual_rating', 'predicted_rating'])\n",
        "sns.displot(data=df, x='value', hue='variable', kde=True);"
      ]
    },
    {
      "cell_type": "markdown",
      "metadata": {
        "id": "Yt9XGhb4wIDM"
      },
      "source": [
        "**Write your Answer here:We can see the distribution of predicted ratings is closely following the distribution of actual ratings. The total bins for predicted ratings are nearly same as to the total bins for actual ratings.\n",
        "We are getting more predicted values in between 3.5 and 4.0, this is expected , as actual ratings always have discrete values, but predicted ratings can have continuous values as we are taking aggregated ratings from the nearest neighbors of a given user. But over the predictions looks good as compared to the distribution of actual ratings.**"
      ]
    },
    {
      "cell_type": "markdown",
      "metadata": {
        "id": "jfNXSEw9wIDM"
      },
      "source": [
        "Below we are comparing the predicted ratings by `matrix factorization based recommendation` system against actual ratings for `userId=7`"
      ]
    },
    {
      "cell_type": "code",
      "execution_count": null,
      "metadata": {
        "id": "6lYjMDhU0xuQ",
        "colab": {
          "base_uri": "https://localhost:8080/",
          "height": 369
        },
        "outputId": "23082b97-2ead-4657-96f8-48a2272bf162"
      },
      "outputs": [
        {
          "output_type": "display_data",
          "data": {
            "text/plain": [
              "<Figure size 478.125x360 with 1 Axes>"
            ],
            "image/png": "[encoded data removed]"
          },
          "metadata": {
            "needs_background": "light"
          }
        }
      ],
      "source": [
        "predicted_ratings_for_interacted_movies = predict_already_interacted_ratings(rating, 7, svd_algo_optimized)\n",
        "df = predicted_ratings_for_interacted_movies.melt(id_vars='movieId', value_vars=['actual_rating', 'predicted_rating'])\n",
        "sns.displot(data=df, x='value', hue='variable', kde=True);"
      ]
    },
    {
      "cell_type": "code",
      "execution_count": null,
      "metadata": {
        "id": "aT0zASb-wIDO"
      },
      "outputs": [],
      "source": [
        "# Instantiating Reader scale with expected rating scale\n",
        "reader = Reader(rating_scale=(0, 5))\n",
        "\n",
        "# Loading the rating dataset\n",
        "data = Dataset.load_from_df(rating[['userId', 'movieId', 'rating']], reader)\n",
        "\n",
        "# Splitting the data into train and test dataset\n",
        "trainset, testset = train_test_split(data, test_size=0.2, random_state=42)"
      ]
    },
    {
      "cell_type": "markdown",
      "metadata": {
        "id": "kGbfBUnawIDO"
      },
      "source": [
        "## **Precision and Recall @ k**\n",
        "\n",
        "RMSE is not the only metric we can use here. We can also examine two fundamental measures, precision and recall. We also add a parameter k which is helpful in understanding problems with multiple rating outputs.\n",
        "\n",
        "**Precision@k** - It is the **fraction of recommended items that are relevant in `top k` predictions**. Value of k is the number of recommendations to be provided to the user. One can choose a variable number of recommendations to be given to a unique user.  \n",
        "\n",
        "**Recall@k** - It is the **fraction of relevant items that are recommended to the user in `top k` predictions**.\n",
        "\n",
        "**Recall** - It is the **fraction of actually relevant items that are recommended to the user** i.e. if out of 10 relevant movies, 6 are recommended to the user then recall is 0.60. Higher the value of recall better is the model. It is one of the metrics to do the performance assessment of classification models.\n",
        "\n",
        "**Precision** - It is the **fraction of recommended items that are relevant actually** i.e. if out of 10 recommended items, 6 are found relevant by the user then precision is 0.60. The higher the value of precision better is the model. It is one of the metrics to do the performance assessment of classification models.\n",
        "\n",
        "See the Precision and Recall @ k section of your notebook and follow the instructions to compute various precision/recall values at various values of k.\n",
        "\n",
        "To know more about precision recall in Recommendation systems refer to these links : \n",
        "\n",
        "https://surprise.readthedocs.io/en/stable/FAQ.html\n",
        "\n",
        "https://medium.com/@m_n_malaeb/recall-and-precision-at-k-for-recommender-systems-618483226c54"
      ]
    },
    {
      "cell_type": "markdown",
      "metadata": {
        "id": "b_norGWOwIDP"
      },
      "source": [
        "### **Question6: Compute the precision and recall, for each of the 6 models, at k = 5 and 10. This is 6 x 2 = 12 numerical values? (4 marks)**"
      ]
    },
    {
      "cell_type": "code",
      "execution_count": null,
      "metadata": {
        "id": "gihoUY5uwIDQ",
        "scrolled": false
      },
      "outputs": [],
      "source": [
        "# Function can be found on surprise documentation FAQs\n",
        "def precision_recall_at_k(predictions, k=10, threshold=3.5):\n",
        "    \"\"\"Return precision and recall at k metrics for each user\"\"\"\n",
        "\n",
        "    # First map the predictions to each user.\n",
        "    user_est_true = defaultdict(list)\n",
        "    for uid, _, true_r, est, _ in predictions:\n",
        "        user_est_true[uid].append((est, true_r))\n",
        "\n",
        "    precisions = dict()\n",
        "    recalls = dict()\n",
        "    for uid, user_ratings in user_est_true.items():\n",
        "\n",
        "        # Sort user ratings by estimated value\n",
        "        user_ratings.sort(key=lambda x: x[0], reverse=True)\n",
        "\n",
        "        # Number of relevant items\n",
        "        n_rel = sum((true_r >= threshold) for (_, true_r) in user_ratings)\n",
        "\n",
        "        # Number of recommended items in top k\n",
        "        n_rec_k = sum((est >= threshold) for (est, _) in user_ratings[:k])\n",
        "\n",
        "        # Number of relevant and recommended items in top k\n",
        "        n_rel_and_rec_k = sum(((true_r >= threshold) and (est >= threshold))\n",
        "                              for (est, true_r) in user_ratings[:k])\n",
        "\n",
        "        # Precision@K: Proportion of recommended items that are relevant\n",
        "        # When n_rec_k is 0, Precision is undefined. We here set it to 0.\n",
        "\n",
        "        precisions[uid] = n_rel_and_rec_k / n_rec_k if n_rec_k != 0 else 0\n",
        "\n",
        "        # Recall@K: Proportion of relevant items that are recommended\n",
        "        # When n_rel is 0, Recall is undefined. We here set it to 0.\n",
        "\n",
        "        recalls[uid] = n_rel_and_rec_k / n_rel if n_rel != 0 else 0\n",
        "\n",
        "    return precisions, recalls\n",
        "\n"
      ]
    },
    {
      "cell_type": "code",
      "execution_count": null,
      "metadata": {
        "id": "57qD5TFRnm1W",
        "colab": {
          "base_uri": "https://localhost:8080/"
        },
        "outputId": "4b0ce3d6-3726-4823-e608-456fc1bb8ff1"
      },
      "outputs": [
        {
          "output_type": "stream",
          "name": "stdout",
          "text": [
            "> k=5, model=KNNBasic\n",
            "-----> Precision:  0.769\n",
            "-----> Recall:  0.411\n",
            "> k=5, model=KNNBasic\n",
            "-----> Precision:  0.768\n",
            "-----> Recall:  0.413\n",
            "> k=5, model=KNNBasic\n",
            "-----> Precision:  0.608\n",
            "-----> Recall:  0.326\n",
            "> k=5, model=KNNBasic\n",
            "-----> Precision:  0.608\n",
            "-----> Recall:  0.326\n",
            "> k=5, model=SVD\n",
            "-----> Precision:  0.747\n",
            "-----> Recall:  0.38\n",
            "> k=5, model=SVD\n",
            "-----> Precision:  0.749\n",
            "-----> Recall:  0.384\n",
            "> k=10, model=KNNBasic\n",
            "-----> Precision:  0.748\n",
            "-----> Recall:  0.548\n",
            "> k=10, model=KNNBasic\n",
            "-----> Precision:  0.746\n",
            "-----> Recall:  0.559\n",
            "> k=10, model=KNNBasic\n",
            "-----> Precision:  0.595\n",
            "-----> Recall:  0.474\n",
            "> k=10, model=KNNBasic\n",
            "-----> Precision:  0.596\n",
            "-----> Recall:  0.475\n",
            "> k=10, model=SVD\n",
            "-----> Precision:  0.733\n",
            "-----> Recall:  0.519\n",
            "> k=10, model=SVD\n",
            "-----> Precision:  0.731\n",
            "-----> Recall:  0.525\n"
          ]
        }
      ],
      "source": [
        "# A basic cross-validation iterator.\n",
        "kf = KFold(n_splits=5)\n",
        "\n",
        "# Make list of k values\n",
        "K = [5, 10]\n",
        "\n",
        "# Remove _______ and complete the code\n",
        "# Make list of models\n",
        "models = [algo_knn_user, similarity_algo_optimized_user,algo_knn_item,similarity_algo_optimized_item, algo_svd, svd_algo_optimized]\n",
        "\n",
        "for k in K:\n",
        "    for model in models:\n",
        "        print('> k={}, model={}'.format(k,model.__class__.__name__))\n",
        "        p = []\n",
        "        r = []\n",
        "        for trainset, testset in kf.split(data):\n",
        "            model.fit(trainset)\n",
        "            predictions = model.test(testset, verbose=False)\n",
        "            precisions, recalls = precision_recall_at_k(predictions, k=k, threshold=3.5)\n",
        "\n",
        "            # Precision and recall can then be averaged over all users\n",
        "            p.append(sum(prec for prec in precisions.values()) / len(precisions))\n",
        "            r.append(sum(rec for rec in recalls.values()) / len(recalls))\n",
        "        \n",
        "        print('-----> Precision: ', round(sum(p) / len(p), 3))\n",
        "        print('-----> Recall: ', round(sum(r) / len(r), 3))"
      ]
    },
    {
      "cell_type": "markdown",
      "source": [
        "### **Question 7 ( 5 Marks)**\n",
        "**7.1 Compare the results from the base line user-user and item-item based models.**\n",
        "\n",
        "**7.2 How do these baseline models compare to each other with respect to the tuned user-user and item-item models?**\n",
        "\n",
        "**7.3 The matrix factorization model is different from the collaborative filtering models. Briefly describe this difference. Also, compare the RMSE and precision recall for the models.**\n",
        "\n",
        "**7.4 Does it improve? Can you offer any reasoning as to why that might be?**"
      ],
      "metadata": {
        "id": "08dezW5P6O1Z"
      }
    },
    {
      "cell_type": "markdown",
      "metadata": {
        "id": "2W0MdIZ1wIDS"
      },
      "source": [
        "**Write your Answer here:\n",
        "User-based and movie-based Collaborative Models have nearly same. User based RMSE values (0.99) while the \"Item based\" model's RMSE is 1.00. Clearly, tuned Collaborative Filtering Models have performed better than baseline model and the tuned user based collaborative filtering is performing better and has rmse of 0.9643\n",
        "\n",
        "The Collaborative Models use the user-item-ratings data to find similarities and make predictions rather than just predicting a random rating based on the distribution of the data. This could a reason why the Collaborative filtering performed well.\n",
        "\n",
        "Collaborative Filtering searches for neighbors based on similarity of item (example) preferences and recommend items that those neighbors interacted while Matrix factorization works by decomposing the user-item matrix into the product of two lower dimensionality rectangular matrices.\n",
        "\n",
        "RMSE for Matrix Factorization (0.90) is better than the Collaborative Filtering Models (~1.00).\n",
        "\n",
        "Tuning SVD matrix factorization model is not improving the base line SVD much.\n",
        "\n",
        "Matrix Factorization has lower RMSE due to the reason that it assumes that both items and users are present in some low dimensional space describing their properties and recommend a item based on its proximity to the user in the latent space. Implying it accounts for latent factors as well.**\n"
      ]
    },
    {
      "cell_type": "markdown",
      "metadata": {
        "id": "TgDOPCXOvOOM"
      },
      "source": [
        "### **Conclusions**"
      ]
    },
    {
      "cell_type": "markdown",
      "metadata": {
        "id": "WJ4L2PwQvOOM"
      },
      "source": [
        "In this case study, we saw three different ways of building recommendation systems: \n",
        "- rank-based using averages\n",
        "- similarity-based collaborative filtering\n",
        "- model-based (matrix factorization) collaborative filtering"
      ]
    },
    {
      "cell_type": "markdown",
      "metadata": {
        "id": "4XP9B9bVvOOM"
      },
      "source": [
        "We also understood advantages/disadvantages of these recommendation systems and when to use which kind of recommendation systems. Once we build these recommendation systems, we can use **A/B Testing** to measure the effectiveness of these systems."
      ]
    },
    {
      "cell_type": "markdown",
      "metadata": {
        "id": "fAQfeVYLvOOM"
      },
      "source": [
        "Here is an article explaining how [Amazon use **A/B Testing**](https://aws.amazon.com/blogs/machine-learning/using-a-b-testing-to-measure-the-efficacy-of-recommendations-generated-by-amazon-personalize/) to measure effectiveness of its recommendation systems."
      ]
    }
  ],
  "metadata": {
    "colab": {
      "collapsed_sections": [],
      "name": "Project_Movie_Recommendation_Learners_Notebook_finished.ipynb",
      "provenance": []
    },
    "kernelspec": {
      "display_name": "Python 3 (ipykernel)",
      "language": "python",
      "name": "python3"
    },
    "language_info": {
      "codemirror_mode": {
        "name": "ipython",
        "version": 3
      },
      "file_extension": ".py",
      "mimetype": "text/x-python",
      "name": "python",
      "nbconvert_exporter": "python",
      "pygments_lexer": "ipython3",
      "version": "3.9.7"
    }
  },
  "nbformat": 4,
  "nbformat_minor": 0
}